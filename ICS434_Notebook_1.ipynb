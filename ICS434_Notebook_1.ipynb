{
  "cells": [
    {
      "cell_type": "markdown",
      "metadata": {
        "id": "NCbEyoLmsYpC"
      },
      "source": [
        "# ICS 434 Homework Assignment 1\n",
        "\n",
        "# <font color=\"red\">Due: 11:59 PM on Wednesday, February 12</font>"
      ]
    },
    {
      "cell_type": "markdown",
      "metadata": {
        "id": "kpRcyI_FsYpI"
      },
      "source": [
        "### Submission Instructions\n",
        "\n",
        "1. Name your notebook file with the following naming convention using your last and first name as presented in Laulima.\n",
        "    - [LastName][FirstName]_[AssignmentNumber].ipynb\n",
        "    - For example, Bruce Wayne ==> WayneBruce_1.ipynb (The number at the end is the assignment number.)\n",
        "2. Only use .ipynb file extension. Other extensions (file formats) like .rtf, .zip, .docs, .pdf are not accepted.\n",
        "4. Never compress your files in a zip file. Data files are available to the instructor and the TA, so no need to upload them to Laulima. Make sure you use the same filenames of data files as given in the homework.\n",
        "5. Save data files in **\"data\" folder under your working directory**. Use **relative path** when you read in data in your code.\n",
        "6. Do not create any subfolders in your Drop Box.\n",
        "7. **Do NOT modify or delete the provided code.**\n",
        "8. Clean your code before submission.\n",
        "    - If needed, provide clear documentation describing the purpose and how to use every class or function in your code.\n",
        "    - Your submission **should show only the required outputs**.\n",
        "9. Run your code before submission to **show all outputs in the submitted file**.\n",
        "10. Write your full name in the cell below.\n",
        "***"
      ]
    },
    {
      "cell_type": "markdown",
      "metadata": {
        "id": "kIG6VCrNsYpJ"
      },
      "source": [
        "\n",
        "## Your Name: Lionel Derrick Roxas\n",
        "\n",
        "***"
      ]
    },
    {
      "cell_type": "markdown",
      "metadata": {
        "id": "pjRXIPjssYpK"
      },
      "source": [
        "### Brief Overview\n",
        "\n",
        "- The goal of this assignment is to practice some important data wrangling functionality commonly required in real-world projects.\n",
        "\n",
        "- Here we will use two datasets:\n",
        "  - IRS Statistics of Income (SOI) dataset\n",
        "  - The Medicaid Data per State  \n",
        "\n",
        "\n",
        "- The final product of this assignment is a table with medication cost per Medicaid enrollee per state. The Medicaid dataset will allow us to answer questions such as:\n",
        "  - Which medications account for the bulk of a state's spending   \n",
        "  - Which drugs are prescribed much more in one state compared to the other states.\n",
        "etc.\n"
      ]
    },
    {
      "cell_type": "markdown",
      "metadata": {
        "id": "Jys4J_zqsYpL"
      },
      "source": [
        "\n",
        "### Instructions on answering the questions\n",
        "\n",
        "- Some of the questions below require that you only use methods or properties of a `DataFrame` or a `Series`. Therefore, any solution that uses a function that is not a method or property of `DataFrame` or `Series` will not be accepted, even when the solution yields an appropriate answer to the question.\n",
        "\n",
        "- For instance, if you are asked to find the number of entries in the DataFrame `tax_data` using only the DataFrame's methods or properties, then `len(tax_data)` is not an acceptable solution since `len()` is not a `tax_data` method. The statements below are both correct answers:\n",
        "\n",
        "> - `info()` is a method of `tax_data`.\n",
        "  \n",
        "```python\n",
        "        tax_data.info()\n",
        "```\n",
        "\n",
        "&emsp;&emsp; or\n",
        "\n",
        "> - `shape` is a property of `tax_data`.\n",
        "\n",
        "```python\n",
        "        tax_data.shape\n",
        "```\n",
        "\n",
        "- Similarly, if you are asked to count the number of unique entries in the `STATEFIPS` column of the `tax_data` DataFrame, then solutions using `set()` or `len()` are not acceptable for the following reasons:\n",
        "\n",
        "> - The solution below uses `set()` and `len()`, which are not `tax_data` methods.\n",
        "\n",
        "```python\n",
        "        len(set(tax_data[\"STATEFIPS\"]))\n",
        "```\n",
        "\n",
        "> - The solution below uses `unique()`, which is a  `tax_data` method, but then counts the number of unique entries using `len()` which is not `tax_data` method.\n",
        "\n",
        "```python\n",
        "        len(tax_data[\"STATEFIPS\"].unique())\n",
        "```\n",
        "\n",
        "\n",
        "- The statement below is an acceptable solution since it uses `nunique()` which is a method of the `Series` generated by indexing on a column of `tax_data` (tax_data[\"STATEFIPS\"]).\n",
        "\n",
        "```python\n",
        "    tax_data['STATEFIPS'].nunique()\n",
        "```\n",
        "\n",
        "\n",
        "- Chaining methods and properties is encouraged if it does not cause ambiguity.\n",
        "\n",
        "- For instance, to identify whether a value is part of the index, write the following:\n",
        "\n",
        "```python\n",
        "    tax_data.index.contains(99999)\n",
        "```\n",
        "\n",
        "&emsp;&emsp; rather than:\n",
        "\n",
        "```python\n",
        "    9999 in tax_data.index\n",
        "```\n",
        "\n",
        "- You can only import `pandas` and `numpy`.\n",
        "\n",
        "- If you are not explicitely asked to only use methods or properties of a `DataFrame` or a `Series`, then any solution that does not rely on external products will be accepted.\n",
        "\n",
        "- __IMPORTANT__: Provide the exact statement(s) used to answer each question.\n",
        "\n",
        "- Unless otherwise specified, each cell can contain multiple lines of code.\n",
        "\n",
        "* Finally, note that not all the functions necessary for answering the questions below were covered in class. As such, I suggest you use `.SHIFT+TAB` or `.TAB` on objects liberally to see which methods and properties are available on objects. If you are unsure what a method does, use `SHIFT+TAB` to invoke the `docstring`, or documentation for that function. This is not only a good way to see which functionality can be used to answer the questions below but also a great way to familiarize yourself with the plethora of functionality available through the `pandas` package.\n",
        "\n",
        "---"
      ]
    },
    {
      "cell_type": "markdown",
      "metadata": {
        "id": "CxzMUHBdsYpM"
      },
      "source": [
        "# 1. Working with the Tax Data"
      ]
    },
    {
      "cell_type": "markdown",
      "metadata": {
        "id": "yay79f1wsYpM"
      },
      "source": [
        "## 1.1. Loading and exploring the data"
      ]
    },
    {
      "cell_type": "code",
      "execution_count": null,
      "metadata": {
        "id": "_15WaAdJsYpN"
      },
      "outputs": [],
      "source": [
        "import pandas as pd\n",
        "import numpy as np"
      ]
    },
    {
      "cell_type": "markdown",
      "metadata": {
        "id": "gs054NLrsYpP"
      },
      "source": [
        "\n",
        "* Load the IRS Statistics of Income (SOI) dataset (`tax_data.csv`) into a DataFrame called `tax_data`. The file is located in the `data` directory of the assignment folder.\n",
        "\n",
        "* This dataset was preprocessed but the original one was obtained at the following URL:\n",
        "\n",
        "        https://www.irs.gov/pub/irs-soi/15zpallagi.csv\n"
      ]
    },
    {
      "cell_type": "code",
      "execution_count": 5,
      "metadata": {
        "id": "jjcFeqAYsYpQ"
      },
      "outputs": [],
      "source": [
        "## WRITE YOUR CODE HERE\n",
        "\n",
        "tax_data = pd.read_csv('data/tax_data.csv')"
      ]
    },
    {
      "cell_type": "markdown",
      "metadata": {
        "id": "gXoONa8CsYpQ"
      },
      "source": [
        "* Use a `tax_data` method or property to display the first eight (8) rows of the `DataFrame`."
      ]
    },
    {
      "cell_type": "code",
      "execution_count": 45,
      "metadata": {
        "id": "hj7fznP2sYpQ",
        "outputId": "43328755-8834-4e68-c526-0d6caa101377",
        "colab": {
          "base_uri": "https://localhost:8080/",
          "height": 349
        }
      },
      "outputs": [
        {
          "output_type": "execute_result",
          "data": {
            "text/plain": [
              "   STATEFIPS STATE  ZIPCODE  AGI_STUB        N1     MARS1     MARS2     MARS4  \\\n",
              "0        1.0    AL      0.0       1.0  836320.0  481570.0  109790.0  233260.0   \n",
              "1        1.0    AL      0.0       2.0  494830.0  206630.0  146250.0  129390.0   \n",
              "2        1.0    AL      0.0       3.0  261250.0   80720.0  139280.0   36130.0   \n",
              "3        1.0    AL      0.0       4.0  166690.0   28510.0  124650.0   10630.0   \n",
              "4        1.0    AL      0.0       5.0  212660.0   19520.0  184320.0    4830.0   \n",
              "5        1.0    AL      0.0       6.0   55360.0    2950.0   49260.0     350.0   \n",
              "6        1.0    AL  35004.0       1.0    1490.0     970.0     230.0     280.0   \n",
              "7        1.0    AL  35004.0       2.0    1350.0     630.0     360.0     300.0   \n",
              "\n",
              "       PREP         N2  ...    N10300     A10300   N85530   A85530   N85300  \\\n",
              "0  455560.0  1356760.0  ...  373410.0   328469.0      0.0      0.0      0.0   \n",
              "1  275920.0  1010990.0  ...  395880.0   965011.0      0.0      0.0      0.0   \n",
              "2  155100.0   583910.0  ...  251490.0  1333418.0      0.0      0.0      0.0   \n",
              "3   99950.0   423990.0  ...  165320.0  1414283.0      0.0      0.0      0.0   \n",
              "4  126860.0   589490.0  ...  212000.0  3820152.0    420.0    168.0     60.0   \n",
              "5   41410.0   160530.0  ...   55300.0  6027793.0  22090.0  39519.0  27550.0   \n",
              "6     700.0     2160.0  ...     690.0      610.0      0.0      0.0      0.0   \n",
              "7     610.0     2540.0  ...    1140.0     3019.0      0.0      0.0      0.0   \n",
              "\n",
              "    A85300   N11901    A11901    N11902     A11902  \n",
              "0      0.0  61920.0   48150.0  732670.0  1933120.0  \n",
              "1      0.0  73720.0  107304.0  415410.0  1187403.0  \n",
              "2      0.0  64200.0  139598.0  193030.0   536699.0  \n",
              "3      0.0  45460.0  128823.0  116440.0   377177.0  \n",
              "4     31.0  83330.0  421004.0  121570.0   483682.0  \n",
              "5  95112.0  28590.0  791573.0   15960.0   250289.0  \n",
              "6      0.0    120.0      94.0    1290.0     2792.0  \n",
              "7      0.0    210.0     301.0    1130.0     2935.0  \n",
              "\n",
              "[8 rows x 131 columns]"
            ],
            "text/html": [
              "\n",
              "  <div id=\"df-39e03ae1-2cc8-4617-8fc5-62d25ce72aef\" class=\"colab-df-container\">\n",
              "    <div>\n",
              "<style scoped>\n",
              "    .dataframe tbody tr th:only-of-type {\n",
              "        vertical-align: middle;\n",
              "    }\n",
              "\n",
              "    .dataframe tbody tr th {\n",
              "        vertical-align: top;\n",
              "    }\n",
              "\n",
              "    .dataframe thead th {\n",
              "        text-align: right;\n",
              "    }\n",
              "</style>\n",
              "<table border=\"1\" class=\"dataframe\">\n",
              "  <thead>\n",
              "    <tr style=\"text-align: right;\">\n",
              "      <th></th>\n",
              "      <th>STATEFIPS</th>\n",
              "      <th>STATE</th>\n",
              "      <th>ZIPCODE</th>\n",
              "      <th>AGI_STUB</th>\n",
              "      <th>N1</th>\n",
              "      <th>MARS1</th>\n",
              "      <th>MARS2</th>\n",
              "      <th>MARS4</th>\n",
              "      <th>PREP</th>\n",
              "      <th>N2</th>\n",
              "      <th>...</th>\n",
              "      <th>N10300</th>\n",
              "      <th>A10300</th>\n",
              "      <th>N85530</th>\n",
              "      <th>A85530</th>\n",
              "      <th>N85300</th>\n",
              "      <th>A85300</th>\n",
              "      <th>N11901</th>\n",
              "      <th>A11901</th>\n",
              "      <th>N11902</th>\n",
              "      <th>A11902</th>\n",
              "    </tr>\n",
              "  </thead>\n",
              "  <tbody>\n",
              "    <tr>\n",
              "      <th>0</th>\n",
              "      <td>1.0</td>\n",
              "      <td>AL</td>\n",
              "      <td>0.0</td>\n",
              "      <td>1.0</td>\n",
              "      <td>836320.0</td>\n",
              "      <td>481570.0</td>\n",
              "      <td>109790.0</td>\n",
              "      <td>233260.0</td>\n",
              "      <td>455560.0</td>\n",
              "      <td>1356760.0</td>\n",
              "      <td>...</td>\n",
              "      <td>373410.0</td>\n",
              "      <td>328469.0</td>\n",
              "      <td>0.0</td>\n",
              "      <td>0.0</td>\n",
              "      <td>0.0</td>\n",
              "      <td>0.0</td>\n",
              "      <td>61920.0</td>\n",
              "      <td>48150.0</td>\n",
              "      <td>732670.0</td>\n",
              "      <td>1933120.0</td>\n",
              "    </tr>\n",
              "    <tr>\n",
              "      <th>1</th>\n",
              "      <td>1.0</td>\n",
              "      <td>AL</td>\n",
              "      <td>0.0</td>\n",
              "      <td>2.0</td>\n",
              "      <td>494830.0</td>\n",
              "      <td>206630.0</td>\n",
              "      <td>146250.0</td>\n",
              "      <td>129390.0</td>\n",
              "      <td>275920.0</td>\n",
              "      <td>1010990.0</td>\n",
              "      <td>...</td>\n",
              "      <td>395880.0</td>\n",
              "      <td>965011.0</td>\n",
              "      <td>0.0</td>\n",
              "      <td>0.0</td>\n",
              "      <td>0.0</td>\n",
              "      <td>0.0</td>\n",
              "      <td>73720.0</td>\n",
              "      <td>107304.0</td>\n",
              "      <td>415410.0</td>\n",
              "      <td>1187403.0</td>\n",
              "    </tr>\n",
              "    <tr>\n",
              "      <th>2</th>\n",
              "      <td>1.0</td>\n",
              "      <td>AL</td>\n",
              "      <td>0.0</td>\n",
              "      <td>3.0</td>\n",
              "      <td>261250.0</td>\n",
              "      <td>80720.0</td>\n",
              "      <td>139280.0</td>\n",
              "      <td>36130.0</td>\n",
              "      <td>155100.0</td>\n",
              "      <td>583910.0</td>\n",
              "      <td>...</td>\n",
              "      <td>251490.0</td>\n",
              "      <td>1333418.0</td>\n",
              "      <td>0.0</td>\n",
              "      <td>0.0</td>\n",
              "      <td>0.0</td>\n",
              "      <td>0.0</td>\n",
              "      <td>64200.0</td>\n",
              "      <td>139598.0</td>\n",
              "      <td>193030.0</td>\n",
              "      <td>536699.0</td>\n",
              "    </tr>\n",
              "    <tr>\n",
              "      <th>3</th>\n",
              "      <td>1.0</td>\n",
              "      <td>AL</td>\n",
              "      <td>0.0</td>\n",
              "      <td>4.0</td>\n",
              "      <td>166690.0</td>\n",
              "      <td>28510.0</td>\n",
              "      <td>124650.0</td>\n",
              "      <td>10630.0</td>\n",
              "      <td>99950.0</td>\n",
              "      <td>423990.0</td>\n",
              "      <td>...</td>\n",
              "      <td>165320.0</td>\n",
              "      <td>1414283.0</td>\n",
              "      <td>0.0</td>\n",
              "      <td>0.0</td>\n",
              "      <td>0.0</td>\n",
              "      <td>0.0</td>\n",
              "      <td>45460.0</td>\n",
              "      <td>128823.0</td>\n",
              "      <td>116440.0</td>\n",
              "      <td>377177.0</td>\n",
              "    </tr>\n",
              "    <tr>\n",
              "      <th>4</th>\n",
              "      <td>1.0</td>\n",
              "      <td>AL</td>\n",
              "      <td>0.0</td>\n",
              "      <td>5.0</td>\n",
              "      <td>212660.0</td>\n",
              "      <td>19520.0</td>\n",
              "      <td>184320.0</td>\n",
              "      <td>4830.0</td>\n",
              "      <td>126860.0</td>\n",
              "      <td>589490.0</td>\n",
              "      <td>...</td>\n",
              "      <td>212000.0</td>\n",
              "      <td>3820152.0</td>\n",
              "      <td>420.0</td>\n",
              "      <td>168.0</td>\n",
              "      <td>60.0</td>\n",
              "      <td>31.0</td>\n",
              "      <td>83330.0</td>\n",
              "      <td>421004.0</td>\n",
              "      <td>121570.0</td>\n",
              "      <td>483682.0</td>\n",
              "    </tr>\n",
              "    <tr>\n",
              "      <th>5</th>\n",
              "      <td>1.0</td>\n",
              "      <td>AL</td>\n",
              "      <td>0.0</td>\n",
              "      <td>6.0</td>\n",
              "      <td>55360.0</td>\n",
              "      <td>2950.0</td>\n",
              "      <td>49260.0</td>\n",
              "      <td>350.0</td>\n",
              "      <td>41410.0</td>\n",
              "      <td>160530.0</td>\n",
              "      <td>...</td>\n",
              "      <td>55300.0</td>\n",
              "      <td>6027793.0</td>\n",
              "      <td>22090.0</td>\n",
              "      <td>39519.0</td>\n",
              "      <td>27550.0</td>\n",
              "      <td>95112.0</td>\n",
              "      <td>28590.0</td>\n",
              "      <td>791573.0</td>\n",
              "      <td>15960.0</td>\n",
              "      <td>250289.0</td>\n",
              "    </tr>\n",
              "    <tr>\n",
              "      <th>6</th>\n",
              "      <td>1.0</td>\n",
              "      <td>AL</td>\n",
              "      <td>35004.0</td>\n",
              "      <td>1.0</td>\n",
              "      <td>1490.0</td>\n",
              "      <td>970.0</td>\n",
              "      <td>230.0</td>\n",
              "      <td>280.0</td>\n",
              "      <td>700.0</td>\n",
              "      <td>2160.0</td>\n",
              "      <td>...</td>\n",
              "      <td>690.0</td>\n",
              "      <td>610.0</td>\n",
              "      <td>0.0</td>\n",
              "      <td>0.0</td>\n",
              "      <td>0.0</td>\n",
              "      <td>0.0</td>\n",
              "      <td>120.0</td>\n",
              "      <td>94.0</td>\n",
              "      <td>1290.0</td>\n",
              "      <td>2792.0</td>\n",
              "    </tr>\n",
              "    <tr>\n",
              "      <th>7</th>\n",
              "      <td>1.0</td>\n",
              "      <td>AL</td>\n",
              "      <td>35004.0</td>\n",
              "      <td>2.0</td>\n",
              "      <td>1350.0</td>\n",
              "      <td>630.0</td>\n",
              "      <td>360.0</td>\n",
              "      <td>300.0</td>\n",
              "      <td>610.0</td>\n",
              "      <td>2540.0</td>\n",
              "      <td>...</td>\n",
              "      <td>1140.0</td>\n",
              "      <td>3019.0</td>\n",
              "      <td>0.0</td>\n",
              "      <td>0.0</td>\n",
              "      <td>0.0</td>\n",
              "      <td>0.0</td>\n",
              "      <td>210.0</td>\n",
              "      <td>301.0</td>\n",
              "      <td>1130.0</td>\n",
              "      <td>2935.0</td>\n",
              "    </tr>\n",
              "  </tbody>\n",
              "</table>\n",
              "<p>8 rows × 131 columns</p>\n",
              "</div>\n",
              "    <div class=\"colab-df-buttons\">\n",
              "\n",
              "  <div class=\"colab-df-container\">\n",
              "    <button class=\"colab-df-convert\" onclick=\"convertToInteractive('df-39e03ae1-2cc8-4617-8fc5-62d25ce72aef')\"\n",
              "            title=\"Convert this dataframe to an interactive table.\"\n",
              "            style=\"display:none;\">\n",
              "\n",
              "  <svg xmlns=\"http://www.w3.org/2000/svg\" height=\"24px\" viewBox=\"0 -960 960 960\">\n",
              "    <path d=\"M120-120v-720h720v720H120Zm60-500h600v-160H180v160Zm220 220h160v-160H400v160Zm0 220h160v-160H400v160ZM180-400h160v-160H180v160Zm440 0h160v-160H620v160ZM180-180h160v-160H180v160Zm440 0h160v-160H620v160Z\"/>\n",
              "  </svg>\n",
              "    </button>\n",
              "\n",
              "  <style>\n",
              "    .colab-df-container {\n",
              "      display:flex;\n",
              "      gap: 12px;\n",
              "    }\n",
              "\n",
              "    .colab-df-convert {\n",
              "      background-color: #E8F0FE;\n",
              "      border: none;\n",
              "      border-radius: 50%;\n",
              "      cursor: pointer;\n",
              "      display: none;\n",
              "      fill: #1967D2;\n",
              "      height: 32px;\n",
              "      padding: 0 0 0 0;\n",
              "      width: 32px;\n",
              "    }\n",
              "\n",
              "    .colab-df-convert:hover {\n",
              "      background-color: #E2EBFA;\n",
              "      box-shadow: 0px 1px 2px rgba(60, 64, 67, 0.3), 0px 1px 3px 1px rgba(60, 64, 67, 0.15);\n",
              "      fill: #174EA6;\n",
              "    }\n",
              "\n",
              "    .colab-df-buttons div {\n",
              "      margin-bottom: 4px;\n",
              "    }\n",
              "\n",
              "    [theme=dark] .colab-df-convert {\n",
              "      background-color: #3B4455;\n",
              "      fill: #D2E3FC;\n",
              "    }\n",
              "\n",
              "    [theme=dark] .colab-df-convert:hover {\n",
              "      background-color: #434B5C;\n",
              "      box-shadow: 0px 1px 3px 1px rgba(0, 0, 0, 0.15);\n",
              "      filter: drop-shadow(0px 1px 2px rgba(0, 0, 0, 0.3));\n",
              "      fill: #FFFFFF;\n",
              "    }\n",
              "  </style>\n",
              "\n",
              "    <script>\n",
              "      const buttonEl =\n",
              "        document.querySelector('#df-39e03ae1-2cc8-4617-8fc5-62d25ce72aef button.colab-df-convert');\n",
              "      buttonEl.style.display =\n",
              "        google.colab.kernel.accessAllowed ? 'block' : 'none';\n",
              "\n",
              "      async function convertToInteractive(key) {\n",
              "        const element = document.querySelector('#df-39e03ae1-2cc8-4617-8fc5-62d25ce72aef');\n",
              "        const dataTable =\n",
              "          await google.colab.kernel.invokeFunction('convertToInteractive',\n",
              "                                                    [key], {});\n",
              "        if (!dataTable) return;\n",
              "\n",
              "        const docLinkHtml = 'Like what you see? Visit the ' +\n",
              "          '<a target=\"_blank\" href=https://colab.research.google.com/notebooks/data_table.ipynb>data table notebook</a>'\n",
              "          + ' to learn more about interactive tables.';\n",
              "        element.innerHTML = '';\n",
              "        dataTable['output_type'] = 'display_data';\n",
              "        await google.colab.output.renderOutput(dataTable, element);\n",
              "        const docLink = document.createElement('div');\n",
              "        docLink.innerHTML = docLinkHtml;\n",
              "        element.appendChild(docLink);\n",
              "      }\n",
              "    </script>\n",
              "  </div>\n",
              "\n",
              "\n",
              "<div id=\"df-7873c179-a045-4bab-87e0-95b899333038\">\n",
              "  <button class=\"colab-df-quickchart\" onclick=\"quickchart('df-7873c179-a045-4bab-87e0-95b899333038')\"\n",
              "            title=\"Suggest charts\"\n",
              "            style=\"display:none;\">\n",
              "\n",
              "<svg xmlns=\"http://www.w3.org/2000/svg\" height=\"24px\"viewBox=\"0 0 24 24\"\n",
              "     width=\"24px\">\n",
              "    <g>\n",
              "        <path d=\"M19 3H5c-1.1 0-2 .9-2 2v14c0 1.1.9 2 2 2h14c1.1 0 2-.9 2-2V5c0-1.1-.9-2-2-2zM9 17H7v-7h2v7zm4 0h-2V7h2v10zm4 0h-2v-4h2v4z\"/>\n",
              "    </g>\n",
              "</svg>\n",
              "  </button>\n",
              "\n",
              "<style>\n",
              "  .colab-df-quickchart {\n",
              "      --bg-color: #E8F0FE;\n",
              "      --fill-color: #1967D2;\n",
              "      --hover-bg-color: #E2EBFA;\n",
              "      --hover-fill-color: #174EA6;\n",
              "      --disabled-fill-color: #AAA;\n",
              "      --disabled-bg-color: #DDD;\n",
              "  }\n",
              "\n",
              "  [theme=dark] .colab-df-quickchart {\n",
              "      --bg-color: #3B4455;\n",
              "      --fill-color: #D2E3FC;\n",
              "      --hover-bg-color: #434B5C;\n",
              "      --hover-fill-color: #FFFFFF;\n",
              "      --disabled-bg-color: #3B4455;\n",
              "      --disabled-fill-color: #666;\n",
              "  }\n",
              "\n",
              "  .colab-df-quickchart {\n",
              "    background-color: var(--bg-color);\n",
              "    border: none;\n",
              "    border-radius: 50%;\n",
              "    cursor: pointer;\n",
              "    display: none;\n",
              "    fill: var(--fill-color);\n",
              "    height: 32px;\n",
              "    padding: 0;\n",
              "    width: 32px;\n",
              "  }\n",
              "\n",
              "  .colab-df-quickchart:hover {\n",
              "    background-color: var(--hover-bg-color);\n",
              "    box-shadow: 0 1px 2px rgba(60, 64, 67, 0.3), 0 1px 3px 1px rgba(60, 64, 67, 0.15);\n",
              "    fill: var(--button-hover-fill-color);\n",
              "  }\n",
              "\n",
              "  .colab-df-quickchart-complete:disabled,\n",
              "  .colab-df-quickchart-complete:disabled:hover {\n",
              "    background-color: var(--disabled-bg-color);\n",
              "    fill: var(--disabled-fill-color);\n",
              "    box-shadow: none;\n",
              "  }\n",
              "\n",
              "  .colab-df-spinner {\n",
              "    border: 2px solid var(--fill-color);\n",
              "    border-color: transparent;\n",
              "    border-bottom-color: var(--fill-color);\n",
              "    animation:\n",
              "      spin 1s steps(1) infinite;\n",
              "  }\n",
              "\n",
              "  @keyframes spin {\n",
              "    0% {\n",
              "      border-color: transparent;\n",
              "      border-bottom-color: var(--fill-color);\n",
              "      border-left-color: var(--fill-color);\n",
              "    }\n",
              "    20% {\n",
              "      border-color: transparent;\n",
              "      border-left-color: var(--fill-color);\n",
              "      border-top-color: var(--fill-color);\n",
              "    }\n",
              "    30% {\n",
              "      border-color: transparent;\n",
              "      border-left-color: var(--fill-color);\n",
              "      border-top-color: var(--fill-color);\n",
              "      border-right-color: var(--fill-color);\n",
              "    }\n",
              "    40% {\n",
              "      border-color: transparent;\n",
              "      border-right-color: var(--fill-color);\n",
              "      border-top-color: var(--fill-color);\n",
              "    }\n",
              "    60% {\n",
              "      border-color: transparent;\n",
              "      border-right-color: var(--fill-color);\n",
              "    }\n",
              "    80% {\n",
              "      border-color: transparent;\n",
              "      border-right-color: var(--fill-color);\n",
              "      border-bottom-color: var(--fill-color);\n",
              "    }\n",
              "    90% {\n",
              "      border-color: transparent;\n",
              "      border-bottom-color: var(--fill-color);\n",
              "    }\n",
              "  }\n",
              "</style>\n",
              "\n",
              "  <script>\n",
              "    async function quickchart(key) {\n",
              "      const quickchartButtonEl =\n",
              "        document.querySelector('#' + key + ' button');\n",
              "      quickchartButtonEl.disabled = true;  // To prevent multiple clicks.\n",
              "      quickchartButtonEl.classList.add('colab-df-spinner');\n",
              "      try {\n",
              "        const charts = await google.colab.kernel.invokeFunction(\n",
              "            'suggestCharts', [key], {});\n",
              "      } catch (error) {\n",
              "        console.error('Error during call to suggestCharts:', error);\n",
              "      }\n",
              "      quickchartButtonEl.classList.remove('colab-df-spinner');\n",
              "      quickchartButtonEl.classList.add('colab-df-quickchart-complete');\n",
              "    }\n",
              "    (() => {\n",
              "      let quickchartButtonEl =\n",
              "        document.querySelector('#df-7873c179-a045-4bab-87e0-95b899333038 button');\n",
              "      quickchartButtonEl.style.display =\n",
              "        google.colab.kernel.accessAllowed ? 'block' : 'none';\n",
              "    })();\n",
              "  </script>\n",
              "</div>\n",
              "\n",
              "    </div>\n",
              "  </div>\n"
            ],
            "application/vnd.google.colaboratory.intrinsic+json": {
              "type": "dataframe",
              "variable_name": "tax_data"
            }
          },
          "metadata": {},
          "execution_count": 45
        }
      ],
      "source": [
        "## WRITE YOUR CODE HERE\n",
        "\n",
        "tax_data.head(8)"
      ]
    },
    {
      "cell_type": "markdown",
      "metadata": {
        "id": "L8OeRtt7sYpR"
      },
      "source": [
        "*  Modify `tax_data` to uppercase all the header names.\n",
        "  * Your answer can only use `DataFrame` or `Series` methods or properties.\n",
        "  * Do not hardcode the operation by uppercasing the column names yourself.\n",
        "  * You can use `tax_data.columns`, which returns a `Series` of the column names.\n",
        "  \n",
        "* The resulting column names should look as follows:\n",
        "\n",
        "\n",
        "```\n",
        "STATEFIPS    STATE    ZIPCODE    AGI_STUB    N1    MARS1    MARS2    MARS4    PREP    N2    ...    \n",
        "```\n",
        "\n",
        "* This operation is useful for standardizing column names and avoid guessing whether the column header was in upper case, lower case, or a mix of both."
      ]
    },
    {
      "cell_type": "code",
      "execution_count": 7,
      "metadata": {
        "id": "VfV1MMlQsYpR",
        "outputId": "26c7f252-94ff-4490-add4-5ca0f50d1bf0",
        "colab": {
          "base_uri": "https://localhost:8080/"
        }
      },
      "outputs": [
        {
          "output_type": "stream",
          "name": "stdout",
          "text": [
            "Index(['STATEFIPS', 'STATE', 'ZIPCODE', 'AGI_STUB', 'N1', 'MARS1', 'MARS2',\n",
            "       'MARS4', 'PREP', 'N2',\n",
            "       ...\n",
            "       'N10300', 'A10300', 'N85530', 'A85530', 'N85300', 'A85300', 'N11901',\n",
            "       'A11901', 'N11902', 'A11902'],\n",
            "      dtype='object', length=131)\n"
          ]
        }
      ],
      "source": [
        "## WRITE YOUR CODE HERE\n",
        "\n",
        "tax_data.columns = tax_data.columns.str.upper()\n",
        "print(tax_data.columns)"
      ]
    },
    {
      "cell_type": "markdown",
      "metadata": {
        "id": "kd0p1LQMsYpR"
      },
      "source": [
        "* What is the total number of entries (also called observations) in `tax_data`?\n",
        "\n",
        "  * Your answer can only use `DataFrame` or `Series` methods or properties."
      ]
    },
    {
      "cell_type": "code",
      "execution_count": 9,
      "metadata": {
        "id": "kw_I_Hf6sYpR",
        "outputId": "36f63aff-28a9-4d40-bd6b-6619b65a7753",
        "colab": {
          "base_uri": "https://localhost:8080/"
        }
      },
      "outputs": [
        {
          "output_type": "execute_result",
          "data": {
            "text/plain": [
              "(36637, 131)"
            ]
          },
          "metadata": {},
          "execution_count": 9
        }
      ],
      "source": [
        "## WRITE YOUR CODE HERE\n",
        "\n",
        "tax_data.shape"
      ]
    },
    {
      "cell_type": "markdown",
      "metadata": {
        "id": "dGvYN8rbsYpS"
      },
      "source": [
        "- If `STATEFIPS` is header label of the first column (index 0) of the `tax_data` DataFrame, what is the label of the 32nd column?\n",
        "  - You should use a single python expression.\n",
        "  - Your answer can only use `DataFrame` or `Series` methods or properties."
      ]
    },
    {
      "cell_type": "code",
      "execution_count": 12,
      "metadata": {
        "id": "h3WbZSAssYpS",
        "outputId": "48eef1fe-194e-4d0a-ef38-5f812ab303d9",
        "colab": {
          "base_uri": "https://localhost:8080/",
          "height": 36
        }
      },
      "outputs": [
        {
          "output_type": "execute_result",
          "data": {
            "text/plain": [
              "'N00900'"
            ],
            "application/vnd.google.colaboratory.intrinsic+json": {
              "type": "string"
            }
          },
          "metadata": {},
          "execution_count": 12
        }
      ],
      "source": [
        "## WRITE YOUR CODE HERE\n",
        "\n",
        "tax_data.columns[31]"
      ]
    },
    {
      "cell_type": "markdown",
      "metadata": {
        "id": "HxwNEYVBsYpS"
      },
      "source": [
        "* If `STATEFIPS` is the first column label (index 0), what is the index of the column labeled `N10300`?\n",
        "  * Your answer can only use `DataFrame` or `Series` methods or properties."
      ]
    },
    {
      "cell_type": "code",
      "execution_count": 15,
      "metadata": {
        "id": "rziiyE3MsYpS",
        "outputId": "2735a70b-5b4b-423c-bf39-b7826c6a51d0",
        "colab": {
          "base_uri": "https://localhost:8080/"
        }
      },
      "outputs": [
        {
          "output_type": "execute_result",
          "data": {
            "text/plain": [
              "121"
            ]
          },
          "metadata": {},
          "execution_count": 15
        }
      ],
      "source": [
        "## WRITE YOUR CODE HERE\n",
        "\n",
        "tax_data.columns.get_loc('N10300')"
      ]
    },
    {
      "cell_type": "markdown",
      "metadata": {
        "id": "XzQSTutGsYpS"
      },
      "source": [
        "- Print the count of unique zip codes in each state using descending order.\n",
        "  - Your answer can only use `DataFrame` or `Series` methods or properties.\n",
        "\n",
        "- The result should look like the following. ( '...' represents remaining data that is not shown here.)\n",
        "\n",
        "```python\n",
        "        ZIPCODE\n",
        "STATE\n",
        "TX\t     1619\n",
        "NY\t     1540\n",
        "CA\t     1485\n",
        "PA\t     1368\n",
        "IL\t     1231\n",
        "...\n",
        "```\n",
        "\n",
        "* The above indicates that there are 1,619 unique zip codes in TX, 1,540 in NY, etc."
      ]
    },
    {
      "cell_type": "code",
      "execution_count": 24,
      "metadata": {
        "scrolled": true,
        "id": "FquUsT4HsYpS"
      },
      "outputs": [],
      "source": [
        "## WRITE YOUR CODE HERE\n",
        "\n",
        "filtered_taxdata = tax_data.groupby('STATE')['ZIPCODE'].nunique().sort_values(ascending=False)"
      ]
    },
    {
      "cell_type": "markdown",
      "metadata": {
        "id": "dbOV7-2CsYpS"
      },
      "source": [
        "- Identify the position of `HI` in the list of zip code counts per state generated in the previous question.\n",
        "  - Your answer can only use `DataFrame` or `Series` methods or properties."
      ]
    },
    {
      "cell_type": "code",
      "execution_count": 26,
      "metadata": {
        "id": "bV2fZ6PesYpT",
        "outputId": "cb3321ac-d953-4571-810e-ec9bd6fa943d",
        "colab": {
          "base_uri": "https://localhost:8080/"
        }
      },
      "outputs": [
        {
          "output_type": "stream",
          "name": "stdout",
          "text": [
            "10\n"
          ]
        }
      ],
      "source": [
        "## WRITE YOUR CODE HERE\n",
        "\n",
        "print(filtered_taxdata.index.get_loc('HI'))"
      ]
    },
    {
      "cell_type": "markdown",
      "metadata": {
        "id": "1VXO0QqGsYpT"
      },
      "source": [
        "## 1.2. Identifying and removing entries with ambiguous zip codes\n",
        "\n",
        "- Count and print the number of entries in `tax_data` where ZIPCODE is 0. Assign your results to a variable named  `nb_invalid_zip`."
      ]
    },
    {
      "cell_type": "code",
      "execution_count": 29,
      "metadata": {
        "id": "_3HynxSesYpT",
        "outputId": "65a02d28-41d1-4418-a66e-5bdb2c22d3ca",
        "colab": {
          "base_uri": "https://localhost:8080/"
        }
      },
      "outputs": [
        {
          "output_type": "stream",
          "name": "stdout",
          "text": [
            "84\n"
          ]
        }
      ],
      "source": [
        "## WRITE YOUR CODE HERE\n",
        "\n",
        "filtered_taxdata = tax_data[tax_data['ZIPCODE'] == 0]\n",
        "nb_invalid_zip = filtered_taxdata.shape[0]\n",
        "print(nb_invalid_zip)"
      ]
    },
    {
      "cell_type": "markdown",
      "metadata": {
        "id": "zPbHcVQ0sYpT"
      },
      "source": [
        "* Run the line below to make sure that `nb_invalid_zip` is an integer (`int`).\n",
        "  * Note that `assert` will only print an error if `type(nb_invalid_zip)` is not of type `int`.\n",
        "  \n",
        "* If the code cell below returns an error, then change your answer above so that the value returned is effectively an integer."
      ]
    },
    {
      "cell_type": "code",
      "execution_count": 30,
      "metadata": {
        "id": "OoDx2nwBsYpT"
      },
      "outputs": [],
      "source": [
        "assert(type(nb_invalid_zip) == int)"
      ]
    },
    {
      "cell_type": "markdown",
      "metadata": {
        "id": "9UabBbAksYpU"
      },
      "source": [
        "- Remove from `tax_data` all the lines where the zip code is `0` and save resulting `DataFrame` to a variable named `tax_data_valid_zip`.\n",
        "  - Your answer can only use `DataFrame` or `Series` methods or properties."
      ]
    },
    {
      "cell_type": "code",
      "execution_count": 35,
      "metadata": {
        "id": "CtrQaytNsYpU"
      },
      "outputs": [],
      "source": [
        "## WRITE YOUR CODE HERE\n",
        "\n",
        "tax_data_valid_zip = tax_data[tax_data['ZIPCODE'] != 0]"
      ]
    },
    {
      "cell_type": "markdown",
      "metadata": {
        "id": "mKi1NB0JsYpU"
      },
      "source": [
        "* Run the line below to confirm that the operation worked as expected.\n",
        "\n",
        "  * The assertion below verifies that `nb_invalid_zip` + number of rows in `tax_data_valid_zip` is equal to the number of rows in the original DataFrame `tax_data`.\n",
        "  \n",
        "  * The assertion below will fail (and print an error message) if the results do not match. If that is the case, please review your code above."
      ]
    },
    {
      "cell_type": "code",
      "execution_count": 36,
      "metadata": {
        "id": "1U-fxlvssYpU"
      },
      "outputs": [],
      "source": [
        "assert((tax_data_valid_zip.shape[0] + nb_invalid_zip) == tax_data.shape[0])"
      ]
    },
    {
      "cell_type": "markdown",
      "metadata": {
        "id": "klePYJL7sYpU"
      },
      "source": [
        "## 1.3. Identifying and removing entries with missing values\n",
        "\n",
        "* How many rows in the `tax_data_valid_zip` DataFrame contain at least one missing value (`NaN`) ?\n",
        "  * Your answer can only use `DataFrame` methods and properties.\n",
        "  \n",
        "* Assign the count of such rows to a variable called `nb_missing_values`."
      ]
    },
    {
      "cell_type": "code",
      "execution_count": 38,
      "metadata": {
        "id": "53MAtPd4sYpV",
        "outputId": "91457cad-e384-4bd3-e01c-7274bb89b3c4",
        "colab": {
          "base_uri": "https://localhost:8080/"
        }
      },
      "outputs": [
        {
          "output_type": "stream",
          "name": "stdout",
          "text": [
            "41\n"
          ]
        }
      ],
      "source": [
        "## WRITE YOUR CODE HERE\n",
        "\n",
        "nb_missing_values = tax_data_valid_zip.isna().any(axis=1).sum()\n",
        "print(nb_missing_values)"
      ]
    },
    {
      "cell_type": "markdown",
      "metadata": {
        "id": "lLsRIK1LsYpV"
      },
      "source": [
        "* Create a new `DataFrame` containing all the lines from `tax_data_valid_zip`, except lines containing missing values.\n",
        "\n",
        "  * Call the new `DataFrame` `tax_data_valid_zip_cleaned`."
      ]
    },
    {
      "cell_type": "code",
      "execution_count": 43,
      "metadata": {
        "id": "EVFohV7MsYpV",
        "outputId": "8a8f2fa4-519f-4547-8a7b-b772f513dfed",
        "colab": {
          "base_uri": "https://localhost:8080/"
        }
      },
      "outputs": [
        {
          "output_type": "stream",
          "name": "stdout",
          "text": [
            "       STATEFIPS STATE  ZIPCODE  AGI_STUB      N1  MARS1  MARS2  MARS4   PREP  \\\n",
            "6            1.0    AL  35004.0       1.0  1490.0  970.0  230.0  280.0  700.0   \n",
            "7            1.0    AL  35004.0       2.0  1350.0  630.0  360.0  300.0  610.0   \n",
            "8            1.0    AL  35004.0       3.0   970.0  310.0  490.0  140.0  450.0   \n",
            "9            1.0    AL  35004.0       4.0   620.0  110.0  470.0   30.0  300.0   \n",
            "10           1.0    AL  35004.0       5.0   620.0   40.0  560.0   20.0  320.0   \n",
            "...          ...   ...      ...       ...     ...    ...    ...    ...    ...   \n",
            "36631       17.0    IL  61540.0       2.0   360.0  180.0  120.0   70.0  210.0   \n",
            "36632       17.0    IL  61540.0       3.0   210.0   70.0  130.0    0.0  130.0   \n",
            "36633       17.0    IL  61540.0       4.0   140.0   40.0  110.0    0.0  100.0   \n",
            "36634       17.0    IL  61540.0       5.0   160.0    0.0  140.0    0.0  120.0   \n",
            "36635       17.0    IL  61540.0       6.0    30.0    0.0   20.0    0.0    0.0   \n",
            "\n",
            "           N2  ...  N10300   A10300  N85530  A85530  N85300  A85300  N11901  \\\n",
            "6      2160.0  ...   690.0    610.0     0.0     0.0     0.0     0.0   120.0   \n",
            "7      2540.0  ...  1140.0   3019.0     0.0     0.0     0.0     0.0   210.0   \n",
            "8      2160.0  ...   930.0   5009.0     0.0     0.0     0.0     0.0   200.0   \n",
            "9      1610.0  ...   620.0   5190.0     0.0     0.0     0.0     0.0   150.0   \n",
            "10     1770.0  ...   620.0  10129.0     0.0     0.0     0.0     0.0   220.0   \n",
            "...       ...  ...     ...      ...     ...     ...     ...     ...     ...   \n",
            "36631   680.0  ...   310.0    829.0     0.0     0.0     0.0     0.0    50.0   \n",
            "36632   470.0  ...   200.0   1090.0     0.0     0.0     0.0     0.0    50.0   \n",
            "36633   320.0  ...   140.0   1246.0     0.0     0.0     0.0     0.0    40.0   \n",
            "36634   420.0  ...   160.0   2750.0     0.0     0.0     0.0     0.0    80.0   \n",
            "36635    70.0  ...    30.0   1974.0     0.0     0.0     0.0     0.0     0.0   \n",
            "\n",
            "       A11901  N11902  A11902  \n",
            "6        94.0  1290.0  2792.0  \n",
            "7       301.0  1130.0  2935.0  \n",
            "8       376.0   760.0  2058.0  \n",
            "9       374.0   460.0  1390.0  \n",
            "10      854.0   410.0  1709.0  \n",
            "...       ...     ...     ...  \n",
            "36631    60.0   310.0   855.0  \n",
            "36632   110.0   160.0   420.0  \n",
            "36633    91.0    90.0   310.0  \n",
            "36634   345.0    90.0   371.0  \n",
            "36635     0.0     0.0     0.0  \n",
            "\n",
            "[36512 rows x 131 columns]\n"
          ]
        }
      ],
      "source": [
        "## WRITE YOUR CODE HERE\n",
        "\n",
        "tax_data_valid_zip_cleaned = tax_data_valid_zip.dropna()\n",
        "print(tax_data_valid_zip_cleaned)"
      ]
    },
    {
      "cell_type": "markdown",
      "metadata": {
        "id": "mVcVgf3NsYpV"
      },
      "source": [
        "* Run the line below to confirm that the operation worked as expected. The assertion below tests that:  \n",
        "`nb_missing_values` + number of rows in `tax_data_valid_zip_cleaned` is equal to the number of rows in `tax_data_valid_zip`.\n",
        "  \n",
        "* Note that `assert` will only print an error if the results do not match."
      ]
    },
    {
      "cell_type": "code",
      "execution_count": 46,
      "metadata": {
        "id": "RplqVbbisYpV"
      },
      "outputs": [],
      "source": [
        "assert((tax_data_valid_zip_cleaned.shape[0] + nb_missing_values) == tax_data_valid_zip.shape[0])"
      ]
    },
    {
      "cell_type": "markdown",
      "metadata": {
        "id": "rZeDCf44sYpV"
      },
      "source": [
        "## 1.4. Computing the percentile income per zip code\n",
        "\n",
        "* The function `compute_percentile_zip` below computes the percentile income per zip code.\n",
        "  * `N1` column: Number of tax returns\n",
        "  * `A00100` column: Adjusted gross income (AGI)\n",
        "\n",
        "\n",
        "* By default `percentile=0.5`,  i.e., the function computes the median.\n",
        "\n",
        "* Read the code and make sure you understand what it does before moving on to the next question.\n"
      ]
    },
    {
      "cell_type": "code",
      "execution_count": 47,
      "metadata": {
        "id": "79ZDETcasYpa"
      },
      "outputs": [],
      "source": [
        "def compute_percentile_zip(df_zip, percentile=0.5):\n",
        "    index_median = sum((df_zip[\"N1\"] / sum(df_zip[\"N1\"])).cumsum() <= percentile)\n",
        "    val_below_or_at_median = (df_zip[\"A00100\"] / df_zip[\"N1\"]).iloc[index_median]\n",
        "    return val_below_or_at_median"
      ]
    },
    {
      "cell_type": "markdown",
      "metadata": {
        "id": "9MCttuPQsYpa"
      },
      "source": [
        "* Compute the 65th income percentile (percentile=0.65) for each zip code in `tax_data_valid_zip_cleaned` DataFrame.\n",
        "\n",
        "  * Your answer can only use `DataFrame` or `Series` methods or properties.\n",
        "  \n",
        "  * Recall that you can use the `apply` function to transform the values of a column.\n",
        "  \n",
        "  \n",
        "* Sort the values in descending order and assign them to a variable named `zip_rev_all`.\n",
        "* The resulting `Series` should look like the following ( '...' represents remaining data that is not shown):\n",
        "\n",
        "```Python\n",
        "ZIPCODE\n",
        "33109.0    3954.114286\n",
        "33480.0    3413.3015383\n",
        "...\n",
        "```"
      ]
    },
    {
      "cell_type": "code",
      "execution_count": 49,
      "metadata": {
        "id": "JGVWfao3sYpa",
        "outputId": "f4b06014-38de-4994-85ce-06b0f73e9140",
        "colab": {
          "base_uri": "https://localhost:8080/"
        }
      },
      "outputs": [
        {
          "output_type": "stream",
          "name": "stdout",
          "text": [
            "ZIPCODE\n",
            "33109.0    3954.114286\n",
            "33480.0    3413.301538\n",
            "94301.0    3109.443711\n",
            "94027.0    3091.537013\n",
            "90067.0    1986.449650\n",
            "              ...     \n",
            "33128.0      12.399005\n",
            "95202.0      12.081356\n",
            "32508.0      11.689423\n",
            "32304.0      11.597207\n",
            "61001.0      10.951744\n",
            "Length: 6080, dtype: float64\n"
          ]
        },
        {
          "output_type": "stream",
          "name": "stderr",
          "text": [
            "<ipython-input-49-34f0cf5c2c4e>:3: DeprecationWarning: DataFrameGroupBy.apply operated on the grouping columns. This behavior is deprecated, and in a future version of pandas the grouping columns will be excluded from the operation. Either pass `include_groups=False` to exclude the groupings or explicitly select the grouping columns after groupby to silence this warning.\n",
            "  zip_rev_all = tax_data_valid_zip_cleaned.groupby('ZIPCODE').apply(compute_percentile_zip, percentile=0.65).sort_values(ascending=False)\n"
          ]
        }
      ],
      "source": [
        "## WRITE YOUR CODE HERE\n",
        "\n",
        "zip_rev_all = tax_data_valid_zip_cleaned.groupby('ZIPCODE').apply(compute_percentile_zip, percentile=0.65).sort_values(ascending=False)\n",
        "print(zip_rev_all)\n"
      ]
    },
    {
      "cell_type": "markdown",
      "metadata": {
        "id": "1B7Lb-AjsYpb"
      },
      "source": [
        "- What are the five zip codes with the most significant 65th percentile value for income?"
      ]
    },
    {
      "cell_type": "code",
      "execution_count": 50,
      "metadata": {
        "id": "CsnF892csYpb",
        "outputId": "8d37e0e2-501e-4520-d63a-acdb301da976",
        "colab": {
          "base_uri": "https://localhost:8080/",
          "height": 272
        }
      },
      "outputs": [
        {
          "output_type": "execute_result",
          "data": {
            "text/plain": [
              "ZIPCODE\n",
              "33109.0    3954.114286\n",
              "33480.0    3413.301538\n",
              "94301.0    3109.443711\n",
              "94027.0    3091.537013\n",
              "90067.0    1986.449650\n",
              "dtype: float64"
            ],
            "text/html": [
              "<div>\n",
              "<style scoped>\n",
              "    .dataframe tbody tr th:only-of-type {\n",
              "        vertical-align: middle;\n",
              "    }\n",
              "\n",
              "    .dataframe tbody tr th {\n",
              "        vertical-align: top;\n",
              "    }\n",
              "\n",
              "    .dataframe thead th {\n",
              "        text-align: right;\n",
              "    }\n",
              "</style>\n",
              "<table border=\"1\" class=\"dataframe\">\n",
              "  <thead>\n",
              "    <tr style=\"text-align: right;\">\n",
              "      <th></th>\n",
              "      <th>0</th>\n",
              "    </tr>\n",
              "    <tr>\n",
              "      <th>ZIPCODE</th>\n",
              "      <th></th>\n",
              "    </tr>\n",
              "  </thead>\n",
              "  <tbody>\n",
              "    <tr>\n",
              "      <th>33109.0</th>\n",
              "      <td>3954.114286</td>\n",
              "    </tr>\n",
              "    <tr>\n",
              "      <th>33480.0</th>\n",
              "      <td>3413.301538</td>\n",
              "    </tr>\n",
              "    <tr>\n",
              "      <th>94301.0</th>\n",
              "      <td>3109.443711</td>\n",
              "    </tr>\n",
              "    <tr>\n",
              "      <th>94027.0</th>\n",
              "      <td>3091.537013</td>\n",
              "    </tr>\n",
              "    <tr>\n",
              "      <th>90067.0</th>\n",
              "      <td>1986.449650</td>\n",
              "    </tr>\n",
              "  </tbody>\n",
              "</table>\n",
              "</div><br><label><b>dtype:</b> float64</label>"
            ]
          },
          "metadata": {},
          "execution_count": 50
        }
      ],
      "source": [
        "## WRITE YOUR CODE HERE\n",
        "\n",
        "zip_rev_all.head(5)"
      ]
    },
    {
      "cell_type": "markdown",
      "metadata": {
        "id": "991sVofhsYpb"
      },
      "source": [
        "# 2. Working with the Medicaid Data"
      ]
    },
    {
      "cell_type": "markdown",
      "metadata": {
        "id": "5VyjtVfRsYpc"
      },
      "source": [
        "## 2.1. Loading and exploring the data\n",
        "\n",
        "* Load the Medicaid data stored in the file `medicaid_data.csv` into a DataFrame called `medicaid_data`. The file is located in the `data` directory of the assignment folder.\n",
        "\n",
        "* Note that this file is quite large and may take some time to load on a computer with modest RAM resources (e.g., 4GB or less)."
      ]
    },
    {
      "cell_type": "code",
      "execution_count": 51,
      "metadata": {
        "id": "HQxbN3-EsYpc"
      },
      "outputs": [],
      "source": [
        "## WRITE YOUR CODE HERE\n",
        "\n",
        "medicaid_data = pd.read_csv('data/medicaid_data.csv')"
      ]
    },
    {
      "cell_type": "markdown",
      "metadata": {
        "id": "fJPJVPVdsYpc"
      },
      "source": [
        "\n",
        "- Modify `medicaid_data` to capitalize all the column names.\n",
        "\n",
        "  - If your solution uses an assignment, the righthand side of the assignment (rvalue) can only use `DataFrame` or `Series` methods or properties."
      ]
    },
    {
      "cell_type": "code",
      "execution_count": 52,
      "metadata": {
        "id": "wdbMfq3LsYpc",
        "outputId": "45f21ad8-b498-4ca0-9803-850c5fe7e62d",
        "colab": {
          "base_uri": "https://localhost:8080/"
        }
      },
      "outputs": [
        {
          "output_type": "stream",
          "name": "stdout",
          "text": [
            "Index(['UTILIZATION TYPE', 'STATE', 'NDC', 'PRODUCT NAME', 'UNITS REIMBURSED',\n",
            "       'NUMBER OF PRESCRIPTIONS', 'TOTAL AMOUNT REIMBURSED',\n",
            "       'MEDICAID AMOUNT REIMBURSED', 'NON MEDICAID AMOUNT REIMBURSED',\n",
            "       'LOCATION'],\n",
            "      dtype='object')\n"
          ]
        }
      ],
      "source": [
        "## WRITE YOUR CODE HERE\n",
        "\n",
        "medicaid_data.columns = medicaid_data.columns.str.upper()\n",
        "print(medicaid_data.columns)"
      ]
    },
    {
      "cell_type": "markdown",
      "metadata": {
        "id": "56dH9Rg8sYpd"
      },
      "source": [
        "\n",
        "- Familiarize yourself with the data.\n",
        "  - The `NDC` column stands for National Drug Code, a universal product identifier for human drugs in the United States.\n",
        "  \n",
        "  - The remaining column names are self-explanatory.\n",
        "  \n",
        "  \n",
        "- Explore the number of rows and columns in the data.\n",
        "\n",
        "- Check that your column names are capitalized."
      ]
    },
    {
      "cell_type": "code",
      "execution_count": 54,
      "metadata": {
        "id": "dUjABP2WsYpd",
        "outputId": "000db4b7-bbe6-4a09-cd95-7fde14b57947",
        "colab": {
          "base_uri": "https://localhost:8080/"
        }
      },
      "outputs": [
        {
          "output_type": "execute_result",
          "data": {
            "text/plain": [
              "(1123003, 10)"
            ]
          },
          "metadata": {},
          "execution_count": 54
        }
      ],
      "source": [
        "## WRITE YOUR CODE HERE\n",
        "\n",
        "medicaid_data.shape"
      ]
    },
    {
      "cell_type": "markdown",
      "metadata": {
        "id": "-XMvjNemsYpd"
      },
      "source": [
        "* If you explore the  `LOCATION` column for all the entries for which `STATE` value is equal to \"HI\" you'll notice that all the values are identical. Confirm it.\n",
        "  * Your answer can only use `DataFrame` or `Series` methods or properties."
      ]
    },
    {
      "cell_type": "code",
      "execution_count": 60,
      "metadata": {
        "id": "u-tiZi2gsYpd",
        "outputId": "7580f5b1-8c44-4745-ca90-f8251fa183c9",
        "colab": {
          "base_uri": "https://localhost:8080/"
        }
      },
      "outputs": [
        {
          "output_type": "execute_result",
          "data": {
            "text/plain": [
              "1"
            ]
          },
          "metadata": {},
          "execution_count": 60
        }
      ],
      "source": [
        "## WRITE YOUR CODE HERE\n",
        "\n",
        "medicaid_data[medicaid_data['STATE'] == 'HI']['LOCATION'].nunique()"
      ]
    },
    {
      "cell_type": "markdown",
      "metadata": {
        "id": "JNXSLiZLsYpd"
      },
      "source": [
        "* Are there any states that have more than one unique value for `LOCATION`? If there are, list those states.\n",
        "  * This question can be answered by using aggregation and the Split-Apply-Combine paradigm.\n",
        "  * Your answer can only use `DataFrame` or `Series` methods or properties."
      ]
    },
    {
      "cell_type": "code",
      "execution_count": 64,
      "metadata": {
        "id": "9IfeeLYesYpe",
        "outputId": "cf0227e0-c2ca-443b-fa46-94ef5a267912",
        "colab": {
          "base_uri": "https://localhost:8080/"
        }
      },
      "outputs": [
        {
          "output_type": "stream",
          "name": "stdout",
          "text": [
            "Series([], Name: LOCATION, dtype: int64)\n"
          ]
        }
      ],
      "source": [
        "## WRITE YOUR CODE HERE\n",
        "\n",
        "location_counts = medicaid_data.groupby('STATE')['LOCATION'].nunique()\n",
        "\n",
        "states_with_multiple_locations = location_counts[location_counts > 1]\n",
        "\n",
        "# Display the results\n",
        "print(states_with_multiple_locations)\n"
      ]
    },
    {
      "cell_type": "markdown",
      "metadata": {
        "id": "vJiItcPQsYpe"
      },
      "source": [
        "\n",
        "\n",
        "* To compare medication prescriptions across states in a fair and balanced way, we need the number of Medicaid beneficiaries in each state. That is, we need to compare per capita. The following example illustrates the importance of normalizing the values `UNITS REIMBURSED` for each medication in each state by the number of Medicaid enrollees in each state.\n",
        "  \n",
        "> The `medicaid_data` DataFrame shows that for the drug with NDC `61958180101` (the drug name is HARVONI and it's used to treat Hepatitis C) there were 11,886  units sold in KY, versus 40,142 in CA -- that's almost 4 times more units sold in CA compared to KY. However, there are 1,284,193 Medicaid enrollees in KY, versus 13,096,861 in California. If we normalize the number of units sold in KY versus CA, we find that there were close to 3 times more HARVONI prescription in KY  than in CA. This is ___perhaps___ justified by the fact the KY had one of the highest rates of reported cases of Hepatitis C in the US in 2015 (2.7% in KY versus 0.2% in CA).\n",
        "\n",
        "    https://www.cdc.gov/hepatitis/statistics/2015surveillance/pdfs/2015hepsurveillancerpt.pdf"
      ]
    },
    {
      "cell_type": "markdown",
      "metadata": {
        "id": "soPhnRTesYpe"
      },
      "source": [
        "* The number of enrollees per state was obtained from [here](https://www.medicaid.gov/medicaid/managed-care/enrollment-report/index.html).\n",
        "\n",
        "\n",
        "* A parsed/processed version (`medicaid_enrollment.tsv`) can be found in the `data` directory of the assignment folder.\n",
        "* Use `pandas` to load the `medicaid_enrollmen.tsv` file into a DataFrame named `medicaid_enrollment`."
      ]
    },
    {
      "cell_type": "code",
      "execution_count": 65,
      "metadata": {
        "id": "0Xg0i-z9sYpf"
      },
      "outputs": [],
      "source": [
        "## WRITE YOUR CODE HERE\n",
        "\n",
        "medicaid_enrollment = pd.read_csv('data/medicaid_enrollment.tsv', sep='\\t')"
      ]
    },
    {
      "cell_type": "markdown",
      "metadata": {
        "id": "GxeDxnAOsYpf"
      },
      "source": [
        "* Modify `medicaid_enrollment` to capitalize all the column names.\n",
        "\n",
        "  * Your answer can only use `DataFrame` or `Series` methods or properties.\n",
        "  * Do not hardcode the operation by manually uppercasing the columns."
      ]
    },
    {
      "cell_type": "code",
      "execution_count": 67,
      "metadata": {
        "id": "9Tl4DP9dsYpf",
        "outputId": "a31c27fb-ea3c-441a-d3ce-6788f5f3bb0d",
        "colab": {
          "base_uri": "https://localhost:8080/"
        }
      },
      "outputs": [
        {
          "output_type": "execute_result",
          "data": {
            "text/plain": [
              "Index(['STATE', 'TOTAL MEDICAID ENROLLEES'], dtype='object')"
            ]
          },
          "metadata": {},
          "execution_count": 67
        }
      ],
      "source": [
        "## WRITE YOUR CODE HERE\n",
        "\n",
        "medicaid_enrollment.columns.str.upper()"
      ]
    },
    {
      "cell_type": "markdown",
      "metadata": {
        "id": "BQ0aPGkDsYpf"
      },
      "source": [
        "* Note that some states/territories have missing values. Remove the entries with missing values and save the resulting DataFrame as a new variable named `medicaid_enrollment_cleaned`.\n",
        "\n",
        "* Pay attention to how 'n/a' is given here!\n",
        "* After cleaning, do you still have the Guam entry? If so, reconsider what missing values means in this context.\n",
        "    * Inspect the n/a values in `medicaid_enrollmen.tsv` file, and modify your code -- either here or the part reading in the file -- to make sure that the Guam entry doesn't appear after you remove the entries with missing values.\n",
        "    * Do not hardcode it by manually deleting the Guam entry."
      ]
    },
    {
      "cell_type": "code",
      "execution_count": 87,
      "metadata": {
        "id": "zY_9Qyh7sYpg",
        "outputId": "1a32c1aa-f958-4284-92ec-e47067db79f7",
        "colab": {
          "base_uri": "https://localhost:8080/",
          "height": 1000
        }
      },
      "outputs": [
        {
          "output_type": "execute_result",
          "data": {
            "text/plain": [
              "                       STATE TOTAL MEDICAID ENROLLEES\n",
              "0                    Alabama                1,050,989\n",
              "1                     Alaska                  164,783\n",
              "2             American Samoa                      nan\n",
              "3                    Arizona                1,740,520\n",
              "4                   Arkansas                  762,166\n",
              "5                 California               13,096,861\n",
              "6                   Colorado                1,264,600\n",
              "7                Connecticut                  746,119\n",
              "8                   Delaware                  227,909\n",
              "9       District of Columbia                  271,428\n",
              "10                   Florida                3,808,334\n",
              "11                   Georgia                1,990,810\n",
              "12                      Guam                      n/a\n",
              "13                    Hawaii                  340,513\n",
              "14                     Idaho                  283,355\n",
              "15                  Illinois                3,269,999\n",
              "16                   Indiana                1,295,358\n",
              "17                      Iowa                  618,505\n",
              "18                    Kansas                  403,844\n",
              "19                  Kentucky                1,284,193\n",
              "20                 Louisiana                1,402,212\n",
              "21                     Maine                  288,324\n",
              "22                  Maryland                1,271,445\n",
              "23             Massachusetts                1,829,618\n",
              "24                  Michigan                3,947,031\n",
              "25                 Minnesota                1,052,521\n",
              "26               Mississippi                  740,937\n",
              "27                  Missouri                  944,257\n",
              "28                   Montana                  139,950\n",
              "29                  Nebraska                  239,463\n",
              "30                    Nevada                  588,304\n",
              "31             New Hampshire                  186,399\n",
              "32                New Jersey                1,705,594\n",
              "33                New Mexico                  826,155\n",
              "34                  New York                6,281,038\n",
              "35            North Carolina                1,965,805\n",
              "36              North Dakota                   86,250\n",
              "37  Northern Mariana Islands                      nan\n",
              "38                      Ohio                3,060,446\n",
              "39                  Oklahoma                  829,561\n",
              "40                    Oregon                1,123,913\n",
              "41              Pennsylvania                2,569,232\n",
              "42               Puerto Rico                1,458,819\n",
              "43              Rhode Island                  308,521\n",
              "44            South Carolina                1,233,430\n",
              "45              South Dakota                  124,497\n",
              "46                 Tennessee                1,562,745\n",
              "47                     Texas                4,273,982\n",
              "48                      Utah                  293,867\n",
              "49                   Vermont                  206,469\n",
              "50            Virgin Islands                      nan\n",
              "51                  Virginia                1,092,225\n",
              "52                Washington                1,771,679\n",
              "53             West Virginia                  545,748\n",
              "54                 Wisconsin                1,209,714\n",
              "55                   Wyoming                   66,532"
            ],
            "text/html": [
              "\n",
              "  <div id=\"df-e6dd2cb2-f2ef-457e-af94-ca28cae1988b\" class=\"colab-df-container\">\n",
              "    <div>\n",
              "<style scoped>\n",
              "    .dataframe tbody tr th:only-of-type {\n",
              "        vertical-align: middle;\n",
              "    }\n",
              "\n",
              "    .dataframe tbody tr th {\n",
              "        vertical-align: top;\n",
              "    }\n",
              "\n",
              "    .dataframe thead th {\n",
              "        text-align: right;\n",
              "    }\n",
              "</style>\n",
              "<table border=\"1\" class=\"dataframe\">\n",
              "  <thead>\n",
              "    <tr style=\"text-align: right;\">\n",
              "      <th></th>\n",
              "      <th>STATE</th>\n",
              "      <th>TOTAL MEDICAID ENROLLEES</th>\n",
              "    </tr>\n",
              "  </thead>\n",
              "  <tbody>\n",
              "    <tr>\n",
              "      <th>0</th>\n",
              "      <td>Alabama</td>\n",
              "      <td>1,050,989</td>\n",
              "    </tr>\n",
              "    <tr>\n",
              "      <th>1</th>\n",
              "      <td>Alaska</td>\n",
              "      <td>164,783</td>\n",
              "    </tr>\n",
              "    <tr>\n",
              "      <th>2</th>\n",
              "      <td>American Samoa</td>\n",
              "      <td>nan</td>\n",
              "    </tr>\n",
              "    <tr>\n",
              "      <th>3</th>\n",
              "      <td>Arizona</td>\n",
              "      <td>1,740,520</td>\n",
              "    </tr>\n",
              "    <tr>\n",
              "      <th>4</th>\n",
              "      <td>Arkansas</td>\n",
              "      <td>762,166</td>\n",
              "    </tr>\n",
              "    <tr>\n",
              "      <th>5</th>\n",
              "      <td>California</td>\n",
              "      <td>13,096,861</td>\n",
              "    </tr>\n",
              "    <tr>\n",
              "      <th>6</th>\n",
              "      <td>Colorado</td>\n",
              "      <td>1,264,600</td>\n",
              "    </tr>\n",
              "    <tr>\n",
              "      <th>7</th>\n",
              "      <td>Connecticut</td>\n",
              "      <td>746,119</td>\n",
              "    </tr>\n",
              "    <tr>\n",
              "      <th>8</th>\n",
              "      <td>Delaware</td>\n",
              "      <td>227,909</td>\n",
              "    </tr>\n",
              "    <tr>\n",
              "      <th>9</th>\n",
              "      <td>District of Columbia</td>\n",
              "      <td>271,428</td>\n",
              "    </tr>\n",
              "    <tr>\n",
              "      <th>10</th>\n",
              "      <td>Florida</td>\n",
              "      <td>3,808,334</td>\n",
              "    </tr>\n",
              "    <tr>\n",
              "      <th>11</th>\n",
              "      <td>Georgia</td>\n",
              "      <td>1,990,810</td>\n",
              "    </tr>\n",
              "    <tr>\n",
              "      <th>12</th>\n",
              "      <td>Guam</td>\n",
              "      <td>n/a</td>\n",
              "    </tr>\n",
              "    <tr>\n",
              "      <th>13</th>\n",
              "      <td>Hawaii</td>\n",
              "      <td>340,513</td>\n",
              "    </tr>\n",
              "    <tr>\n",
              "      <th>14</th>\n",
              "      <td>Idaho</td>\n",
              "      <td>283,355</td>\n",
              "    </tr>\n",
              "    <tr>\n",
              "      <th>15</th>\n",
              "      <td>Illinois</td>\n",
              "      <td>3,269,999</td>\n",
              "    </tr>\n",
              "    <tr>\n",
              "      <th>16</th>\n",
              "      <td>Indiana</td>\n",
              "      <td>1,295,358</td>\n",
              "    </tr>\n",
              "    <tr>\n",
              "      <th>17</th>\n",
              "      <td>Iowa</td>\n",
              "      <td>618,505</td>\n",
              "    </tr>\n",
              "    <tr>\n",
              "      <th>18</th>\n",
              "      <td>Kansas</td>\n",
              "      <td>403,844</td>\n",
              "    </tr>\n",
              "    <tr>\n",
              "      <th>19</th>\n",
              "      <td>Kentucky</td>\n",
              "      <td>1,284,193</td>\n",
              "    </tr>\n",
              "    <tr>\n",
              "      <th>20</th>\n",
              "      <td>Louisiana</td>\n",
              "      <td>1,402,212</td>\n",
              "    </tr>\n",
              "    <tr>\n",
              "      <th>21</th>\n",
              "      <td>Maine</td>\n",
              "      <td>288,324</td>\n",
              "    </tr>\n",
              "    <tr>\n",
              "      <th>22</th>\n",
              "      <td>Maryland</td>\n",
              "      <td>1,271,445</td>\n",
              "    </tr>\n",
              "    <tr>\n",
              "      <th>23</th>\n",
              "      <td>Massachusetts</td>\n",
              "      <td>1,829,618</td>\n",
              "    </tr>\n",
              "    <tr>\n",
              "      <th>24</th>\n",
              "      <td>Michigan</td>\n",
              "      <td>3,947,031</td>\n",
              "    </tr>\n",
              "    <tr>\n",
              "      <th>25</th>\n",
              "      <td>Minnesota</td>\n",
              "      <td>1,052,521</td>\n",
              "    </tr>\n",
              "    <tr>\n",
              "      <th>26</th>\n",
              "      <td>Mississippi</td>\n",
              "      <td>740,937</td>\n",
              "    </tr>\n",
              "    <tr>\n",
              "      <th>27</th>\n",
              "      <td>Missouri</td>\n",
              "      <td>944,257</td>\n",
              "    </tr>\n",
              "    <tr>\n",
              "      <th>28</th>\n",
              "      <td>Montana</td>\n",
              "      <td>139,950</td>\n",
              "    </tr>\n",
              "    <tr>\n",
              "      <th>29</th>\n",
              "      <td>Nebraska</td>\n",
              "      <td>239,463</td>\n",
              "    </tr>\n",
              "    <tr>\n",
              "      <th>30</th>\n",
              "      <td>Nevada</td>\n",
              "      <td>588,304</td>\n",
              "    </tr>\n",
              "    <tr>\n",
              "      <th>31</th>\n",
              "      <td>New Hampshire</td>\n",
              "      <td>186,399</td>\n",
              "    </tr>\n",
              "    <tr>\n",
              "      <th>32</th>\n",
              "      <td>New Jersey</td>\n",
              "      <td>1,705,594</td>\n",
              "    </tr>\n",
              "    <tr>\n",
              "      <th>33</th>\n",
              "      <td>New Mexico</td>\n",
              "      <td>826,155</td>\n",
              "    </tr>\n",
              "    <tr>\n",
              "      <th>34</th>\n",
              "      <td>New York</td>\n",
              "      <td>6,281,038</td>\n",
              "    </tr>\n",
              "    <tr>\n",
              "      <th>35</th>\n",
              "      <td>North Carolina</td>\n",
              "      <td>1,965,805</td>\n",
              "    </tr>\n",
              "    <tr>\n",
              "      <th>36</th>\n",
              "      <td>North Dakota</td>\n",
              "      <td>86,250</td>\n",
              "    </tr>\n",
              "    <tr>\n",
              "      <th>37</th>\n",
              "      <td>Northern Mariana Islands</td>\n",
              "      <td>nan</td>\n",
              "    </tr>\n",
              "    <tr>\n",
              "      <th>38</th>\n",
              "      <td>Ohio</td>\n",
              "      <td>3,060,446</td>\n",
              "    </tr>\n",
              "    <tr>\n",
              "      <th>39</th>\n",
              "      <td>Oklahoma</td>\n",
              "      <td>829,561</td>\n",
              "    </tr>\n",
              "    <tr>\n",
              "      <th>40</th>\n",
              "      <td>Oregon</td>\n",
              "      <td>1,123,913</td>\n",
              "    </tr>\n",
              "    <tr>\n",
              "      <th>41</th>\n",
              "      <td>Pennsylvania</td>\n",
              "      <td>2,569,232</td>\n",
              "    </tr>\n",
              "    <tr>\n",
              "      <th>42</th>\n",
              "      <td>Puerto Rico</td>\n",
              "      <td>1,458,819</td>\n",
              "    </tr>\n",
              "    <tr>\n",
              "      <th>43</th>\n",
              "      <td>Rhode Island</td>\n",
              "      <td>308,521</td>\n",
              "    </tr>\n",
              "    <tr>\n",
              "      <th>44</th>\n",
              "      <td>South Carolina</td>\n",
              "      <td>1,233,430</td>\n",
              "    </tr>\n",
              "    <tr>\n",
              "      <th>45</th>\n",
              "      <td>South Dakota</td>\n",
              "      <td>124,497</td>\n",
              "    </tr>\n",
              "    <tr>\n",
              "      <th>46</th>\n",
              "      <td>Tennessee</td>\n",
              "      <td>1,562,745</td>\n",
              "    </tr>\n",
              "    <tr>\n",
              "      <th>47</th>\n",
              "      <td>Texas</td>\n",
              "      <td>4,273,982</td>\n",
              "    </tr>\n",
              "    <tr>\n",
              "      <th>48</th>\n",
              "      <td>Utah</td>\n",
              "      <td>293,867</td>\n",
              "    </tr>\n",
              "    <tr>\n",
              "      <th>49</th>\n",
              "      <td>Vermont</td>\n",
              "      <td>206,469</td>\n",
              "    </tr>\n",
              "    <tr>\n",
              "      <th>50</th>\n",
              "      <td>Virgin Islands</td>\n",
              "      <td>nan</td>\n",
              "    </tr>\n",
              "    <tr>\n",
              "      <th>51</th>\n",
              "      <td>Virginia</td>\n",
              "      <td>1,092,225</td>\n",
              "    </tr>\n",
              "    <tr>\n",
              "      <th>52</th>\n",
              "      <td>Washington</td>\n",
              "      <td>1,771,679</td>\n",
              "    </tr>\n",
              "    <tr>\n",
              "      <th>53</th>\n",
              "      <td>West Virginia</td>\n",
              "      <td>545,748</td>\n",
              "    </tr>\n",
              "    <tr>\n",
              "      <th>54</th>\n",
              "      <td>Wisconsin</td>\n",
              "      <td>1,209,714</td>\n",
              "    </tr>\n",
              "    <tr>\n",
              "      <th>55</th>\n",
              "      <td>Wyoming</td>\n",
              "      <td>66,532</td>\n",
              "    </tr>\n",
              "  </tbody>\n",
              "</table>\n",
              "</div>\n",
              "    <div class=\"colab-df-buttons\">\n",
              "\n",
              "  <div class=\"colab-df-container\">\n",
              "    <button class=\"colab-df-convert\" onclick=\"convertToInteractive('df-e6dd2cb2-f2ef-457e-af94-ca28cae1988b')\"\n",
              "            title=\"Convert this dataframe to an interactive table.\"\n",
              "            style=\"display:none;\">\n",
              "\n",
              "  <svg xmlns=\"http://www.w3.org/2000/svg\" height=\"24px\" viewBox=\"0 -960 960 960\">\n",
              "    <path d=\"M120-120v-720h720v720H120Zm60-500h600v-160H180v160Zm220 220h160v-160H400v160Zm0 220h160v-160H400v160ZM180-400h160v-160H180v160Zm440 0h160v-160H620v160ZM180-180h160v-160H180v160Zm440 0h160v-160H620v160Z\"/>\n",
              "  </svg>\n",
              "    </button>\n",
              "\n",
              "  <style>\n",
              "    .colab-df-container {\n",
              "      display:flex;\n",
              "      gap: 12px;\n",
              "    }\n",
              "\n",
              "    .colab-df-convert {\n",
              "      background-color: #E8F0FE;\n",
              "      border: none;\n",
              "      border-radius: 50%;\n",
              "      cursor: pointer;\n",
              "      display: none;\n",
              "      fill: #1967D2;\n",
              "      height: 32px;\n",
              "      padding: 0 0 0 0;\n",
              "      width: 32px;\n",
              "    }\n",
              "\n",
              "    .colab-df-convert:hover {\n",
              "      background-color: #E2EBFA;\n",
              "      box-shadow: 0px 1px 2px rgba(60, 64, 67, 0.3), 0px 1px 3px 1px rgba(60, 64, 67, 0.15);\n",
              "      fill: #174EA6;\n",
              "    }\n",
              "\n",
              "    .colab-df-buttons div {\n",
              "      margin-bottom: 4px;\n",
              "    }\n",
              "\n",
              "    [theme=dark] .colab-df-convert {\n",
              "      background-color: #3B4455;\n",
              "      fill: #D2E3FC;\n",
              "    }\n",
              "\n",
              "    [theme=dark] .colab-df-convert:hover {\n",
              "      background-color: #434B5C;\n",
              "      box-shadow: 0px 1px 3px 1px rgba(0, 0, 0, 0.15);\n",
              "      filter: drop-shadow(0px 1px 2px rgba(0, 0, 0, 0.3));\n",
              "      fill: #FFFFFF;\n",
              "    }\n",
              "  </style>\n",
              "\n",
              "    <script>\n",
              "      const buttonEl =\n",
              "        document.querySelector('#df-e6dd2cb2-f2ef-457e-af94-ca28cae1988b button.colab-df-convert');\n",
              "      buttonEl.style.display =\n",
              "        google.colab.kernel.accessAllowed ? 'block' : 'none';\n",
              "\n",
              "      async function convertToInteractive(key) {\n",
              "        const element = document.querySelector('#df-e6dd2cb2-f2ef-457e-af94-ca28cae1988b');\n",
              "        const dataTable =\n",
              "          await google.colab.kernel.invokeFunction('convertToInteractive',\n",
              "                                                    [key], {});\n",
              "        if (!dataTable) return;\n",
              "\n",
              "        const docLinkHtml = 'Like what you see? Visit the ' +\n",
              "          '<a target=\"_blank\" href=https://colab.research.google.com/notebooks/data_table.ipynb>data table notebook</a>'\n",
              "          + ' to learn more about interactive tables.';\n",
              "        element.innerHTML = '';\n",
              "        dataTable['output_type'] = 'display_data';\n",
              "        await google.colab.output.renderOutput(dataTable, element);\n",
              "        const docLink = document.createElement('div');\n",
              "        docLink.innerHTML = docLinkHtml;\n",
              "        element.appendChild(docLink);\n",
              "      }\n",
              "    </script>\n",
              "  </div>\n",
              "\n",
              "\n",
              "<div id=\"df-cdc5d156-1688-4ead-ad87-da13086b5e0f\">\n",
              "  <button class=\"colab-df-quickchart\" onclick=\"quickchart('df-cdc5d156-1688-4ead-ad87-da13086b5e0f')\"\n",
              "            title=\"Suggest charts\"\n",
              "            style=\"display:none;\">\n",
              "\n",
              "<svg xmlns=\"http://www.w3.org/2000/svg\" height=\"24px\"viewBox=\"0 0 24 24\"\n",
              "     width=\"24px\">\n",
              "    <g>\n",
              "        <path d=\"M19 3H5c-1.1 0-2 .9-2 2v14c0 1.1.9 2 2 2h14c1.1 0 2-.9 2-2V5c0-1.1-.9-2-2-2zM9 17H7v-7h2v7zm4 0h-2V7h2v10zm4 0h-2v-4h2v4z\"/>\n",
              "    </g>\n",
              "</svg>\n",
              "  </button>\n",
              "\n",
              "<style>\n",
              "  .colab-df-quickchart {\n",
              "      --bg-color: #E8F0FE;\n",
              "      --fill-color: #1967D2;\n",
              "      --hover-bg-color: #E2EBFA;\n",
              "      --hover-fill-color: #174EA6;\n",
              "      --disabled-fill-color: #AAA;\n",
              "      --disabled-bg-color: #DDD;\n",
              "  }\n",
              "\n",
              "  [theme=dark] .colab-df-quickchart {\n",
              "      --bg-color: #3B4455;\n",
              "      --fill-color: #D2E3FC;\n",
              "      --hover-bg-color: #434B5C;\n",
              "      --hover-fill-color: #FFFFFF;\n",
              "      --disabled-bg-color: #3B4455;\n",
              "      --disabled-fill-color: #666;\n",
              "  }\n",
              "\n",
              "  .colab-df-quickchart {\n",
              "    background-color: var(--bg-color);\n",
              "    border: none;\n",
              "    border-radius: 50%;\n",
              "    cursor: pointer;\n",
              "    display: none;\n",
              "    fill: var(--fill-color);\n",
              "    height: 32px;\n",
              "    padding: 0;\n",
              "    width: 32px;\n",
              "  }\n",
              "\n",
              "  .colab-df-quickchart:hover {\n",
              "    background-color: var(--hover-bg-color);\n",
              "    box-shadow: 0 1px 2px rgba(60, 64, 67, 0.3), 0 1px 3px 1px rgba(60, 64, 67, 0.15);\n",
              "    fill: var(--button-hover-fill-color);\n",
              "  }\n",
              "\n",
              "  .colab-df-quickchart-complete:disabled,\n",
              "  .colab-df-quickchart-complete:disabled:hover {\n",
              "    background-color: var(--disabled-bg-color);\n",
              "    fill: var(--disabled-fill-color);\n",
              "    box-shadow: none;\n",
              "  }\n",
              "\n",
              "  .colab-df-spinner {\n",
              "    border: 2px solid var(--fill-color);\n",
              "    border-color: transparent;\n",
              "    border-bottom-color: var(--fill-color);\n",
              "    animation:\n",
              "      spin 1s steps(1) infinite;\n",
              "  }\n",
              "\n",
              "  @keyframes spin {\n",
              "    0% {\n",
              "      border-color: transparent;\n",
              "      border-bottom-color: var(--fill-color);\n",
              "      border-left-color: var(--fill-color);\n",
              "    }\n",
              "    20% {\n",
              "      border-color: transparent;\n",
              "      border-left-color: var(--fill-color);\n",
              "      border-top-color: var(--fill-color);\n",
              "    }\n",
              "    30% {\n",
              "      border-color: transparent;\n",
              "      border-left-color: var(--fill-color);\n",
              "      border-top-color: var(--fill-color);\n",
              "      border-right-color: var(--fill-color);\n",
              "    }\n",
              "    40% {\n",
              "      border-color: transparent;\n",
              "      border-right-color: var(--fill-color);\n",
              "      border-top-color: var(--fill-color);\n",
              "    }\n",
              "    60% {\n",
              "      border-color: transparent;\n",
              "      border-right-color: var(--fill-color);\n",
              "    }\n",
              "    80% {\n",
              "      border-color: transparent;\n",
              "      border-right-color: var(--fill-color);\n",
              "      border-bottom-color: var(--fill-color);\n",
              "    }\n",
              "    90% {\n",
              "      border-color: transparent;\n",
              "      border-bottom-color: var(--fill-color);\n",
              "    }\n",
              "  }\n",
              "</style>\n",
              "\n",
              "  <script>\n",
              "    async function quickchart(key) {\n",
              "      const quickchartButtonEl =\n",
              "        document.querySelector('#' + key + ' button');\n",
              "      quickchartButtonEl.disabled = true;  // To prevent multiple clicks.\n",
              "      quickchartButtonEl.classList.add('colab-df-spinner');\n",
              "      try {\n",
              "        const charts = await google.colab.kernel.invokeFunction(\n",
              "            'suggestCharts', [key], {});\n",
              "      } catch (error) {\n",
              "        console.error('Error during call to suggestCharts:', error);\n",
              "      }\n",
              "      quickchartButtonEl.classList.remove('colab-df-spinner');\n",
              "      quickchartButtonEl.classList.add('colab-df-quickchart-complete');\n",
              "    }\n",
              "    (() => {\n",
              "      let quickchartButtonEl =\n",
              "        document.querySelector('#df-cdc5d156-1688-4ead-ad87-da13086b5e0f button');\n",
              "      quickchartButtonEl.style.display =\n",
              "        google.colab.kernel.accessAllowed ? 'block' : 'none';\n",
              "    })();\n",
              "  </script>\n",
              "</div>\n",
              "\n",
              "  <div id=\"id_1746eeb1-203a-41ec-8681-1a428ba3ca66\">\n",
              "    <style>\n",
              "      .colab-df-generate {\n",
              "        background-color: #E8F0FE;\n",
              "        border: none;\n",
              "        border-radius: 50%;\n",
              "        cursor: pointer;\n",
              "        display: none;\n",
              "        fill: #1967D2;\n",
              "        height: 32px;\n",
              "        padding: 0 0 0 0;\n",
              "        width: 32px;\n",
              "      }\n",
              "\n",
              "      .colab-df-generate:hover {\n",
              "        background-color: #E2EBFA;\n",
              "        box-shadow: 0px 1px 2px rgba(60, 64, 67, 0.3), 0px 1px 3px 1px rgba(60, 64, 67, 0.15);\n",
              "        fill: #174EA6;\n",
              "      }\n",
              "\n",
              "      [theme=dark] .colab-df-generate {\n",
              "        background-color: #3B4455;\n",
              "        fill: #D2E3FC;\n",
              "      }\n",
              "\n",
              "      [theme=dark] .colab-df-generate:hover {\n",
              "        background-color: #434B5C;\n",
              "        box-shadow: 0px 1px 3px 1px rgba(0, 0, 0, 0.15);\n",
              "        filter: drop-shadow(0px 1px 2px rgba(0, 0, 0, 0.3));\n",
              "        fill: #FFFFFF;\n",
              "      }\n",
              "    </style>\n",
              "    <button class=\"colab-df-generate\" onclick=\"generateWithVariable('medicaid_enrollment_cleaned')\"\n",
              "            title=\"Generate code using this dataframe.\"\n",
              "            style=\"display:none;\">\n",
              "\n",
              "  <svg xmlns=\"http://www.w3.org/2000/svg\" height=\"24px\"viewBox=\"0 0 24 24\"\n",
              "       width=\"24px\">\n",
              "    <path d=\"M7,19H8.4L18.45,9,17,7.55,7,17.6ZM5,21V16.75L18.45,3.32a2,2,0,0,1,2.83,0l1.4,1.43a1.91,1.91,0,0,1,.58,1.4,1.91,1.91,0,0,1-.58,1.4L9.25,21ZM18.45,9,17,7.55Zm-12,3A5.31,5.31,0,0,0,4.9,8.1,5.31,5.31,0,0,0,1,6.5,5.31,5.31,0,0,0,4.9,4.9,5.31,5.31,0,0,0,6.5,1,5.31,5.31,0,0,0,8.1,4.9,5.31,5.31,0,0,0,12,6.5,5.46,5.46,0,0,0,6.5,12Z\"/>\n",
              "  </svg>\n",
              "    </button>\n",
              "    <script>\n",
              "      (() => {\n",
              "      const buttonEl =\n",
              "        document.querySelector('#id_1746eeb1-203a-41ec-8681-1a428ba3ca66 button.colab-df-generate');\n",
              "      buttonEl.style.display =\n",
              "        google.colab.kernel.accessAllowed ? 'block' : 'none';\n",
              "\n",
              "      buttonEl.onclick = () => {\n",
              "        google.colab.notebook.generateWithVariable('medicaid_enrollment_cleaned');\n",
              "      }\n",
              "      })();\n",
              "    </script>\n",
              "  </div>\n",
              "\n",
              "    </div>\n",
              "  </div>\n"
            ],
            "application/vnd.google.colaboratory.intrinsic+json": {
              "type": "dataframe",
              "variable_name": "medicaid_enrollment_cleaned",
              "summary": "{\n  \"name\": \"medicaid_enrollment_cleaned\",\n  \"rows\": 56,\n  \"fields\": [\n    {\n      \"column\": \"STATE\",\n      \"properties\": {\n        \"dtype\": \"string\",\n        \"num_unique_values\": 56,\n        \"samples\": [\n          \"Alabama\",\n          \"California\",\n          \"New Mexico\"\n        ],\n        \"semantic_type\": \"\",\n        \"description\": \"\"\n      }\n    },\n    {\n      \"column\": \"TOTAL MEDICAID ENROLLEES\",\n      \"properties\": {\n        \"dtype\": \"string\",\n        \"num_unique_values\": 54,\n        \"samples\": [\n          \"1,284,193\",\n          \"1,092,225\",\n          \"206,469\"\n        ],\n        \"semantic_type\": \"\",\n        \"description\": \"\"\n      }\n    }\n  ]\n}"
            }
          },
          "metadata": {},
          "execution_count": 87
        }
      ],
      "source": [
        "## WRITE YOUR CODE HERE\n",
        "\n",
        "medicaid_enrollment_cleaned = medicaid_enrollment.dropna()\n",
        "medicaid_enrollment_cleaned"
      ]
    },
    {
      "cell_type": "markdown",
      "metadata": {
        "id": "_JkW5-wCsYpg"
      },
      "source": [
        "## 2.2. Converting `TOTAL MEDICAID ENROLLEES` data type\n",
        "\n",
        "* Given that data on `TOTAL MEDICAID ENROLLEES` column contains commas on file (ex. 3,269,999 instead of 3269999), `pandas` has erroneously set the data type for that column as `object`. We need to convert the column from `object` to `int` since we will be using it in an arithmetic expression during normalization.\n",
        "\n",
        "\n",
        "* Convert the data type of `TOTAL MEDICAID ENROLLEES` column in `medicaid_enrollment_cleaned` to `int`.\n",
        "* Inspect the `dtype` property of the column, and  make sure that the data type is `int`."
      ]
    },
    {
      "cell_type": "code",
      "execution_count": null,
      "metadata": {
        "id": "Its-5ZM2sYpg"
      },
      "outputs": [],
      "source": [
        "## WRITE YOUR CODE HERE\n",
        "\n"
      ]
    },
    {
      "cell_type": "markdown",
      "metadata": {
        "id": "PTNcvBfBsYpg"
      },
      "source": [
        "## 2.3. Associating `medicaid_data` and `medicaid_enrollment_cleaned`\n",
        "\n",
        "- We can use the shared State information across both tables to associate both tables (like SQL join).\n",
        "- However, `medicaid_data` contains two-letter state abbreviations, while `medicaid_enrollment_cleaned` contains the complete state name.\n",
        "  - We need to convert (or append) two-letter state abbreviations to `medicaid_enrollment_cleaned`.\n",
        "\n",
        "\n",
        "- Pandas can read HTML and parse the code for tables. We will use that functionality to read in the state abbreviations from a web page.\n",
        "  - A brief description of what the code does is included in the comments.\n",
        "  \n",
        "  \n",
        "- Note that the code below may throw an error if `lxml` is not installed on your machine. You should install any Python packages that Python complains about before proceeding."
      ]
    },
    {
      "cell_type": "code",
      "execution_count": null,
      "metadata": {
        "id": "oJdG7Vl_sYpg"
      },
      "outputs": [],
      "source": [
        "# Reads all the tables at the given url.\n",
        "# Header=0 instructs pandas to use line 0 as the header (columns)\n",
        "import requests\n",
        "from io import StringIO\n",
        "\n",
        "url = requests.get('https://www.50states.com/abbreviations.htm')\n",
        "tables = pd.read_html(StringIO(url.text), header=0)\n",
        "\n",
        "\n",
        "# We access the desired table by giving its index.\n",
        "# Since the URL contains three tables, we can access state abbreviations table using index 0.\n",
        "Codes_abbreviations = tables[0]\n",
        "Codes_abbreviations.head()"
      ]
    },
    {
      "cell_type": "markdown",
      "metadata": {
        "id": "aHWGj0VIsYph"
      },
      "source": [
        "* Change the the `DataFrame`'s headers from ['US STATE',\t'POSTAL ABBREVIATION', \t'STANDARD ABBREVIATION'] to ['US STATE', 'ABBREVIATION', 'STD ABBREVIATION']\n",
        "\n",
        "  * You can hardcode this operation."
      ]
    },
    {
      "cell_type": "code",
      "execution_count": null,
      "metadata": {
        "id": "YvZvw8AcsYph"
      },
      "outputs": [],
      "source": [
        "## WRITE YOUR CODE HERE\n",
        "\n"
      ]
    },
    {
      "cell_type": "markdown",
      "metadata": {
        "id": "hX2U51UcsYph"
      },
      "source": [
        "* Combine the tables `medicaid_enrollment_cleaned` and `Codes_abbreviations` such that the resulting DataFrame contains all the columns in `medicaid_enrollment_cleaned` and only `ABBREVIATION` from `Codes_abbreviations`.\n",
        "  * Use the **default option (`inner`)** to merge.\n",
        "  * The resulting DataFrame should contain 50 entries.\n",
        "\n",
        "* Save the results to a variable named `medicaid_enrollment_cleaned_with_zip`.\n",
        "\n",
        "* `medicaid_enrollment_cleaned_with_zip` should look like the following ( '...' represents remaining data that is not shown):\n",
        "\n",
        "\n",
        "```\n",
        "        STATE   TOTAL MEDICAID ENROLLEES   ABBREVIATION\n",
        "0     Alabama                    1050989             AL\n",
        "1      Alaska                     164783             AK\n",
        "2     Arizona                    1740520             AZ\n",
        "3    Arkansas                     762166             AR\n",
        "4  California                   13096861             CA\n",
        "...\n",
        "```"
      ]
    },
    {
      "cell_type": "code",
      "execution_count": null,
      "metadata": {
        "id": "2WJnoTi1sYph"
      },
      "outputs": [],
      "source": [
        "## WRITE YOUR CODE HERE\n",
        "\n"
      ]
    },
    {
      "cell_type": "markdown",
      "metadata": {
        "id": "UZou7uotsYpi"
      },
      "source": [
        "* We have no further use for the column STATE in  `medicaid_enrollment_cleaned_with_zip`.\n",
        "  * Remove the column. Make sure your data in `medicaid_enrollment_cleaned_with_zip` looks like the following  ( '...' represents remaining data that is not shown):\n",
        "\n",
        "```\n",
        "   TOTAL MEDICAID ENROLLEES   ABBREVIATION\n",
        "0                   1050989             AL\n",
        "1                    164783             AK\n",
        "2                   1740520             AZ\n",
        "3                    762166             AR\n",
        "4                  13096861             CA\n",
        "...\n",
        "```"
      ]
    },
    {
      "cell_type": "code",
      "execution_count": null,
      "metadata": {
        "id": "OVi3CbmXsYpi"
      },
      "outputs": [],
      "source": [
        "## WRITE YOUR CODE HERE\n",
        "\n"
      ]
    },
    {
      "cell_type": "markdown",
      "metadata": {
        "id": "6vJn1nLgsYpi"
      },
      "source": [
        "- Use the DataFrame `medicaid_enrollment_cleaned_with_zip` to assign the appropriate number of Medicaid enrollees to each entry in the `medicaid_data`.\n",
        "\n",
        "  - I.e., instead of the 10 original columns, `medicaid_data` will now have an 11th column representing the `TOTAL MEDICAID ENROLLEES` according to the `STATE` value in the entry.\n",
        "  - Use the **default option (`inner`)** to merge.\n",
        "\n",
        "   \n",
        "- Save the resulting DataFrame into a new variable called `medicaid_data_w_enrollments`.\n",
        "- The resulting DataFrame should look like the following ( '...' represents remaining data that is not shown):\n",
        "\n",
        "```\n",
        "                                                           NON                  TOTAL\n",
        "  UTILIZATION                         PRODUCT  ...    MEDICAID               MEDICAID\n",
        "         TYPE  STATE          NDC        NAME           AMOUNT    LOCATION  ENROLLEES\n",
        "                                                    REIMBURSED\n",
        "0        MCOU     PA  55150023930  Dexamethas  ...        0.00    (40.5773,  2569232.0\n",
        "                                                                   -77.264)\n",
        "1        FFSU     NY     23917710  ALPHAGAN P  ...        0.00    (42.1497,  6281038.0\n",
        "                                                                  -74.9384)\n",
        "2        MCOU     OR  13925050501  Dapsone 10  ...        0.00    (44.5672,  1123913.0\n",
        "                                                                 -122.1269)      \n",
        "...\n",
        "```\n",
        "\n",
        "* The order of the columns in the DataFrame is not important. This answer uses the same approach as the one used to `merge` the tables above."
      ]
    },
    {
      "cell_type": "code",
      "execution_count": null,
      "metadata": {
        "id": "LW8ICIyYsYpi"
      },
      "outputs": [],
      "source": [
        "## WRITE YOUR CODE HERE\n",
        "\n"
      ]
    },
    {
      "cell_type": "markdown",
      "metadata": {
        "id": "S5JrQAu7sYpi"
      },
      "source": [
        "- Remove any rows where `STATE` or `PRODUCT NAME` are missing from  `medicaid_data_w_enrollments`."
      ]
    },
    {
      "cell_type": "code",
      "execution_count": null,
      "metadata": {
        "id": "zhOH_KAZsYpj"
      },
      "outputs": [],
      "source": [
        "## WRITE YOUR CODE HERE\n",
        "\n"
      ]
    },
    {
      "cell_type": "markdown",
      "metadata": {
        "id": "2KEWUaNwsYpj"
      },
      "source": [
        "- Use `[\"STATE\", \"NDC\"]` as hierarchical index for `medicaid_data_w_enrollments`. Recall that a hierarchical index is simply an index with multiple levels of indexing (multiple columns).\n",
        "  * Hint: The function to set an index on a DataFrame can take a single column name or a list of column names. The list here is `[\"STATE\", \"NDC\"]`.\n",
        "  \n",
        "  \n",
        "- Call the new data `medicaid_data_w_enrollments_hierarch`.\n",
        "\n",
        "\n",
        "- Inspect your data to make sure the new index has now two levels (STATE and NDC)."
      ]
    },
    {
      "cell_type": "code",
      "execution_count": null,
      "metadata": {
        "id": "e5ec1T6dsYpj"
      },
      "outputs": [],
      "source": [
        "## WRITE YOUR CODE HERE\n",
        "\n"
      ]
    },
    {
      "cell_type": "markdown",
      "metadata": {
        "id": "Qi_wOHk0sYpj"
      },
      "source": [
        "\n",
        "* Write a single Pandas expression to show all the rows containing `NDC` `61958180101` in the Pennsylvania (\"PA\").\n",
        "\n",
        " * Use a single indexing call (bracket notation) using `loc`.\n",
        "\n",
        " * Hint: Since your index is hierarchical, `loc` is expecting two values, the first for `STATE` and the second for `NDC`."
      ]
    },
    {
      "cell_type": "code",
      "execution_count": null,
      "metadata": {
        "id": "MNcY7r4XsYpj"
      },
      "outputs": [],
      "source": [
        "## WRITE YOUR CODE HERE\n",
        "\n"
      ]
    },
    {
      "cell_type": "markdown",
      "metadata": {
        "id": "54H1KFTrsYpk"
      },
      "source": [
        "## 2.4. Computing the normalized `UNITS REIMBURSED` per enrollee\n",
        "\n",
        "* Compute the `UNITS REIMBURSED` for each \"NDC\" in each state normalized by the number of enrollees.\n",
        "\n",
        "\n",
        "> - For instance in `PA`, the total `UNITS REIMBURSED` for the HARVONI `NDC` (61958180101) is 10,612.\n",
        "\n",
        "```python\n",
        "      total_amount_reimbursed = medicaid_data_w_enrollments_hierarch.loc[(\"PA\", 61958180101), \"UNITS REIMBURSED\"].sum()\n",
        "```\n",
        "\n",
        "> - And the numebr of Medicaid Enrollees in \"PA\" is 2,569,232.\n",
        "\n",
        "```python\n",
        "      total_enrollees_PA = medicaid_data_w_enrollments_hierarch.loc[\"PA\", \"TOTAL MEDICAID ENROLLEES\"].unique()[0]\n",
        "```\n",
        "\n",
        "> - Therefore, the `UNITS REIMBURSED` per enrollee for \"HARVONI\" is  0.00413041718303.\n",
        "\n",
        "```python\n",
        "      print(total_amount_reimbursed/total_enrollees_PA)\n",
        "```\n",
        "\n",
        "- Rather than work directly with the ratios, we are going to compute and work with their logarithm (`np.log2`) instead.\n",
        "\n",
        "  - The reason we use logs here is to avoid working small numbers. More on log-transformation in future lectures.\n",
        "  \n",
        "\n",
        "- Save the result in a `Series` called `medicaid_reimbursement_per_enrollee`.\n",
        "\n",
        "\n",
        "- Your final result should be a `Series` that look like the following ( '...' represents data that is not shown here):\n",
        "\n",
        "  - Note that negative values are the result of the `log` transformation.\n",
        "  \n",
        "```\n",
        "STATE  NDC    \n",
        "AK     2143380    -9.609109\n",
        "       2143480   -10.008280\n",
        "       2322730    -6.109830\n",
        "       2322830    -4.444321\n",
        "       2322930    -3.855995\n",
        "...\n",
        "\n",
        "AL     2143380    -9.940595\n",
        "       2143480    -9.805485\n",
        "       2322730    -5.336260\n",
        "       2322830    -4.243688\n",
        "       2322930    -3.645575\n",
        "\n",
        "...\n",
        "\n",
        "MA     2143380    -7.921997\n",
        "       2143480    -7.803463\n",
        "       2144511   -13.472194\n",
        "       2197590    -7.741402\n",
        "       2322730    -5.414724\n",
        "       2322830    -4.592154\n",
        "       2322930    -4.205626\n",
        "...\n",
        "```"
      ]
    },
    {
      "cell_type": "code",
      "execution_count": null,
      "metadata": {
        "id": "MOKtz1e2sYpk"
      },
      "outputs": [],
      "source": [
        "## WRITE YOUR CODE HERE\n",
        "\n"
      ]
    },
    {
      "cell_type": "markdown",
      "metadata": {
        "id": "DBUFSGgZsYpk"
      },
      "source": [
        "- To facilitate working with the final data, we are going to unstack `medicaid_reimbursement_per_enrollee` into a variable called  `medicaid_norm_ndc`.\n",
        "\n",
        "\n",
        "- Using `medicaid_reimbursement_per_enrollee`, generate a DataFrame where:\n",
        "  - index should be the two-letter state symbol\n",
        "  - column names are the `NDC` codes\n",
        "\n",
        "\n",
        "- The DataFrame should look like the following ('...' represents data that is not shown):\n",
        "  - Hint: Simply unstack the data.\n",
        "  \n",
        "  \n",
        "```\n",
        "  NDC    2143380     2143480     2144511 2144527    2197590    2322730 ... 99207026012 99207046330\n",
        "STATE\n",
        "   AK  -9.609109  -10.008280         NaN     NaN        NaN  -6.109830 ...         NaN         NaN\n",
        "   AL  -9.940595   -9.805485         NaN     NaN        NaN  -5.336260 ...         NaN         NaN\n",
        "   AR -12.985157  -12.657103         NaN     NaN        NaN  -4.720964 ...         NaN         NaN\n",
        "   AZ -11.533870  -10.821194         NaN     NaN        NaN  -5.312806 ...         NaN         NaN\n",
        "   CA -10.926863  -10.698372  -16.127018     NaN  -9.464364  -7.429936 ...         NaN  -15.150865\n",
        "...\n",
        "```"
      ]
    },
    {
      "cell_type": "code",
      "execution_count": null,
      "metadata": {
        "id": "m5NFwVbusYpl"
      },
      "outputs": [],
      "source": [
        "## WRITE YOUR CODE HERE\n",
        "\n"
      ]
    },
    {
      "cell_type": "markdown",
      "metadata": {
        "id": "vYbbzN0SsYpl"
      },
      "source": [
        "## 2.5. Exploring the data (very briefly)\n",
        "- What is the NDC for the drug with the highest log-normalized ratio in Hawaii?"
      ]
    },
    {
      "cell_type": "code",
      "execution_count": null,
      "metadata": {
        "id": "JWgslqDQsYpl"
      },
      "outputs": [],
      "source": [
        "## WRITE YOUR CODE HERE\n",
        "\n"
      ]
    },
    {
      "cell_type": "markdown",
      "metadata": {
        "id": "oIdtsbGGsYpl"
      },
      "source": [
        "* Investigate the NDC of the product with the highest log-normalized ratio in Hawaii.\n",
        "  * What is the name of the product? What is it used for?"
      ]
    },
    {
      "cell_type": "code",
      "execution_count": null,
      "metadata": {
        "id": "bAJWtIBZsYpl"
      },
      "outputs": [],
      "source": [
        "## WRITE YOUR CODE HERE\n",
        "\n"
      ]
    },
    {
      "cell_type": "markdown",
      "metadata": {
        "id": "jNoy2ZUBsYpl"
      },
      "source": [
        "> **WRITE YOUR ANSWER HERE:**\n",
        ">\n",
        ">\n"
      ]
    },
    {
      "cell_type": "markdown",
      "metadata": {
        "id": "dPhOHneTsYpm"
      },
      "source": [
        "* Compare the log-normalized `UNITS REIMBURSED` per enrollee of that product between HI and other states, (take for instance MA, FL, OR and WA)."
      ]
    },
    {
      "cell_type": "code",
      "execution_count": null,
      "metadata": {
        "id": "0nngXmW4sYpm"
      },
      "outputs": [],
      "source": [
        "## WRITE YOUR CODE HERE\n",
        "\n"
      ]
    },
    {
      "cell_type": "markdown",
      "metadata": {
        "id": "JyzYTdGIsYpm"
      },
      "source": [
        "* Can you think for reasons why this product has the highest log-normalized ratio in Hawaii? (Not graded)"
      ]
    },
    {
      "cell_type": "markdown",
      "metadata": {
        "id": "wTdTjaPtsYpm"
      },
      "source": [
        "> **WRITE YOUR ANSWER HERE**\n",
        ">\n",
        ">"
      ]
    }
  ],
  "metadata": {
    "hide_input": false,
    "kernelspec": {
      "display_name": "Python 3 (ipykernel)",
      "language": "python",
      "name": "python3"
    },
    "language_info": {
      "codemirror_mode": {
        "name": "ipython",
        "version": 3
      },
      "file_extension": ".py",
      "mimetype": "text/x-python",
      "name": "python",
      "nbconvert_exporter": "python",
      "pygments_lexer": "ipython3",
      "version": "3.12.8"
    },
    "colab": {
      "provenance": []
    }
  },
  "nbformat": 4,
  "nbformat_minor": 0
}